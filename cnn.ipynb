{
 "metadata": {
  "kernelspec": {
   "language": "python",
   "display_name": "Python 3",
   "name": "python3"
  },
  "language_info": {
   "name": "python",
   "version": "3.7.12",
   "mimetype": "text/x-python",
   "codemirror_mode": {
    "name": "ipython",
    "version": 3
   },
   "pygments_lexer": "ipython3",
   "nbconvert_exporter": "python",
   "file_extension": ".py"
  },
  "colab": {
   "name": "cnn.ipynb",
   "provenance": [],
   "collapsed_sections": []
  },
  "accelerator": "GPU",
  "gpuClass": "standard"
 },
 "nbformat_minor": 0,
 "nbformat": 4,
 "cells": [
  {
   "cell_type": "markdown",
   "source": [
    "## How to build CNN in TensorFlow: examples, code, and notebooks\n",
    "\n",
    "Click the image below to read the post online.\n",
    "\n",
    "<a target=\"_blank\" href=\"https://www.machinelearningnuggets.com/cnn-tensorflow\n",
    "\"><img src=\"https://www.machinelearningnuggets.com/ezoimgfmt/digitalpress.fra1.cdn.digitaloceanspaces.com/mhujhsj/2022/07/logho-1.png?ezimgfmt=ng:webp/ngcb1\" alt=\"Open in ML Nuggets\"></a>"
   ],
   "metadata": {
    "id": "fhhUGGKxGutz"
   }
  },
  {
   "cell_type": "code",
   "source": [
    "!pip install layer -U"
   ],
   "metadata": {
    "id": "j_OIM132TaFl",
    "trusted": true
   },
   "execution_count": null,
   "outputs": []
  },
  {
   "cell_type": "code",
   "source": [
    "import tensorflow as tf"
   ],
   "metadata": {
    "id": "PniS-Th7RKUr",
    "execution": {
     "iopub.status.busy": "2022-07-31T17:40:59.251880Z",
     "iopub.execute_input": "2022-07-31T17:40:59.252916Z",
     "iopub.status.idle": "2022-07-31T17:41:05.089145Z",
     "shell.execute_reply.started": "2022-07-31T17:40:59.252821Z",
     "shell.execute_reply": "2022-07-31T17:41:05.087827Z"
    },
    "trusted": true
   },
   "execution_count": null,
   "outputs": []
  },
  {
   "cell_type": "code",
   "source": [
    "print(tf.__version__)"
   ],
   "metadata": {
    "id": "X_mZIb85CCNo",
    "execution": {
     "iopub.status.busy": "2022-07-31T17:41:05.097301Z",
     "iopub.execute_input": "2022-07-31T17:41:05.097778Z",
     "iopub.status.idle": "2022-07-31T17:41:05.106422Z",
     "shell.execute_reply.started": "2022-07-31T17:41:05.097721Z",
     "shell.execute_reply": "2022-07-31T17:41:05.104390Z"
    },
    "trusted": true
   },
   "execution_count": null,
   "outputs": []
  },
  {
   "cell_type": "code",
   "source": [
    "from tensorflow import keras\n",
    "from tensorflow.keras import layers\n",
    "import matplotlib.pyplot as plt\n",
    "import pandas as pd\n",
    "import numpy as np"
   ],
   "metadata": {
    "id": "DG-DmqeTUNQ0",
    "execution": {
     "iopub.status.busy": "2022-07-31T17:41:05.108335Z",
     "iopub.execute_input": "2022-07-31T17:41:05.109344Z",
     "iopub.status.idle": "2022-07-31T17:41:06.735562Z",
     "shell.execute_reply.started": "2022-07-31T17:41:05.109290Z",
     "shell.execute_reply": "2022-07-31T17:41:06.734222Z"
    },
    "trusted": true
   },
   "execution_count": null,
   "outputs": []
  },
  {
   "cell_type": "markdown",
   "source": [
    "## Load the dataset"
   ],
   "metadata": {
    "id": "jG5Rql1_XYrD"
   }
  },
  {
   "cell_type": "code",
   "source": [
    "import layer\n",
    "mnist_train = layer.get_dataset('layer/fashion_mnist/datasets/fashion_mnist_train').to_pandas()\n",
    "mnist_test = layer.get_dataset('layer/fashion_mnist/datasets/fashion_mnist_test').to_pandas()"
   ],
   "metadata": {
    "id": "kvtAAgE4UX84",
    "execution": {
     "iopub.status.busy": "2022-07-31T17:41:06.740054Z",
     "iopub.execute_input": "2022-07-31T17:41:06.740848Z",
     "iopub.status.idle": "2022-07-31T17:41:24.719783Z",
     "shell.execute_reply.started": "2022-07-31T17:41:06.740790Z",
     "shell.execute_reply": "2022-07-31T17:41:24.718199Z"
    },
    "trusted": true
   },
   "execution_count": null,
   "outputs": []
  },
  {
   "cell_type": "code",
   "source": [
    "mnist_train[\"images\"][17]"
   ],
   "metadata": {
    "id": "1C5-39JgWs2z",
    "execution": {
     "iopub.status.busy": "2022-07-31T17:41:24.721604Z",
     "iopub.execute_input": "2022-07-31T17:41:24.722521Z",
     "iopub.status.idle": "2022-07-31T17:41:24.737860Z",
     "shell.execute_reply.started": "2022-07-31T17:41:24.722475Z",
     "shell.execute_reply": "2022-07-31T17:41:24.736418Z"
    },
    "trusted": true
   },
   "execution_count": null,
   "outputs": []
  },
  {
   "cell_type": "code",
   "source": [
    "mnist_test[\"images\"][23]"
   ],
   "metadata": {
    "id": "Ef7Ic6oHWzbo",
    "execution": {
     "iopub.status.busy": "2022-07-31T17:41:24.740103Z",
     "iopub.execute_input": "2022-07-31T17:41:24.740531Z",
     "iopub.status.idle": "2022-07-31T17:41:24.749511Z",
     "shell.execute_reply.started": "2022-07-31T17:41:24.740495Z",
     "shell.execute_reply": "2022-07-31T17:41:24.748386Z"
    },
    "trusted": true
   },
   "execution_count": null,
   "outputs": []
  },
  {
   "cell_type": "markdown",
   "source": [
    "## Data preprocessing"
   ],
   "metadata": {
    "id": "I0W048AbXYrE"
   }
  },
  {
   "cell_type": "code",
   "source": [
    "def images_to_np_array(image_column):\n",
    "    return np.array([np.array(im.getdata()).reshape((im.size[1], im.size[0])) for im in image_column])"
   ],
   "metadata": {
    "id": "lGq2sCELUWCu",
    "execution": {
     "iopub.status.busy": "2022-07-31T17:41:56.585832Z",
     "iopub.execute_input": "2022-07-31T17:41:56.586267Z",
     "iopub.status.idle": "2022-07-31T17:41:56.593375Z",
     "shell.execute_reply.started": "2022-07-31T17:41:56.586230Z",
     "shell.execute_reply": "2022-07-31T17:41:56.591963Z"
    },
    "trusted": true
   },
   "execution_count": null,
   "outputs": []
  },
  {
   "cell_type": "code",
   "source": [
    "train_images = images_to_np_array(mnist_train.images)\n",
    "test_images = images_to_np_array(mnist_test.images)\n",
    "train_labels = mnist_train.labels\n",
    "test_labels = mnist_test.labels"
   ],
   "metadata": {
    "id": "eG3ecL0IUKtM",
    "execution": {
     "iopub.status.busy": "2022-07-31T17:41:58.445712Z",
     "iopub.execute_input": "2022-07-31T17:41:58.446523Z",
     "iopub.status.idle": "2022-07-31T17:42:10.856103Z",
     "shell.execute_reply.started": "2022-07-31T17:41:58.446485Z",
     "shell.execute_reply": "2022-07-31T17:42:10.854570Z"
    },
    "trusted": true
   },
   "execution_count": null,
   "outputs": []
  },
  {
   "cell_type": "markdown",
   "source": [
    "## Model definition"
   ],
   "metadata": {
    "id": "QalJciamXYrF"
   }
  },
  {
   "cell_type": "code",
   "source": [
    "parameters = {\"shape\":28, \"activation\": \"relu\", \"classes\": 10, \"units\":12, \"optimizer\":\"adam\", \"epochs\":100,\"kernel_size\":3,\"pool_size\":2, \"dropout\":0.5}\n",
    "# Setup the layers\n",
    "model = keras.Sequential(\n",
    "  [\n",
    "      keras.Input(shape=(parameters[\"shape\"], parameters[\"shape\"], 1)),\n",
    "      layers.Conv2D(32, kernel_size=(parameters[\"kernel_size\"], parameters[\"kernel_size\"]), activation=parameters[\"activation\"]),\n",
    "      layers.MaxPooling2D(pool_size=(parameters[\"pool_size\"], parameters[\"pool_size\"])),\n",
    "      layers.Conv2D(64, kernel_size=(parameters[\"kernel_size\"], parameters[\"kernel_size\"]), activation=parameters[\"activation\"]),\n",
    "      layers.MaxPooling2D(pool_size=(parameters[\"pool_size\"], parameters[\"pool_size\"])),\n",
    "      layers.Flatten(),\n",
    "      layers.Dropout(parameters[\"dropout\"]),\n",
    "      layers.Dense(parameters[\"classes\"], activation=\"softmax\"),\n",
    "  ]\n",
    ")"
   ],
   "metadata": {
    "id": "bvOCMiNFUPKG",
    "execution": {
     "iopub.status.busy": "2022-07-31T17:44:02.330953Z",
     "iopub.execute_input": "2022-07-31T17:44:02.333115Z",
     "iopub.status.idle": "2022-07-31T17:44:02.401830Z",
     "shell.execute_reply.started": "2022-07-31T17:44:02.333045Z",
     "shell.execute_reply": "2022-07-31T17:44:02.400671Z"
    },
    "trusted": true
   },
   "execution_count": null,
   "outputs": []
  },
  {
   "cell_type": "markdown",
   "source": [
    "## Compiling the model"
   ],
   "metadata": {
    "id": "FaYtEgO1XYrF"
   }
  },
  {
   "cell_type": "code",
   "source": [
    "# Compile the model\n",
    "model.compile(optimizer=parameters[\"optimizer\"],\n",
    "            loss=tf.keras.losses.SparseCategoricalCrossentropy(),\n",
    "            metrics=['accuracy'])\n"
   ],
   "metadata": {
    "id": "0FW5A0Ub9IHc",
    "execution": {
     "iopub.status.busy": "2022-07-31T17:44:16.031691Z",
     "iopub.execute_input": "2022-07-31T17:44:16.032183Z",
     "iopub.status.idle": "2022-07-31T17:44:16.044440Z",
     "shell.execute_reply.started": "2022-07-31T17:44:16.032130Z",
     "shell.execute_reply": "2022-07-31T17:44:16.043381Z"
    },
    "trusted": true
   },
   "execution_count": null,
   "outputs": []
  },
  {
   "cell_type": "code",
   "source": [
    "# Train it!\n",
    "history = model.fit(x=train_images, y=train_labels,validation_data=(test_images,test_labels), epochs=parameters[\"epochs\"])"
   ],
   "metadata": {
    "id": "chop1CorU0Rn",
    "execution": {
     "iopub.status.busy": "2022-07-31T17:44:18.740618Z",
     "iopub.execute_input": "2022-07-31T17:44:18.741509Z",
     "iopub.status.idle": "2022-07-31T17:44:19.578276Z",
     "shell.execute_reply.started": "2022-07-31T17:44:18.741456Z",
     "shell.execute_reply": "2022-07-31T17:44:19.576580Z"
    },
    "trusted": true
   },
   "execution_count": null,
   "outputs": []
  },
  {
   "cell_type": "markdown",
   "source": [
    "## How to plot model learning curves"
   ],
   "metadata": {
    "id": "plbsVg9YXYrF"
   }
  },
  {
   "cell_type": "code",
   "source": [
    "metrics_df = pd.DataFrame(history.history)\n",
    "metrics_df[[\"loss\",\"val_loss\"]].plot();\n",
    "metrics_df[[\"accuracy\",\"val_accuracy\"]].plot();\n"
   ],
   "metadata": {
    "id": "a1-W7H_bU3eJ"
   },
   "execution_count": null,
   "outputs": []
  },
  {
   "cell_type": "markdown",
   "source": [
    "## Model evaluation"
   ],
   "metadata": {
    "id": "rWUZSoOdXYrG"
   }
  },
  {
   "cell_type": "code",
   "source": [
    "# And finally evaluate the accuracy\n",
    "test_loss, test_acc = model.evaluate(test_images,  test_labels, verbose=2)\n",
    "predictions = model.predict(test_images)\n",
    "df = pd.DataFrame(predictions, columns=[\"0\",\"1\",\"2\",\"3\",\"4\",\"5\",\"6\",\"7\",\"8\",\"9\"])"
   ],
   "metadata": {
    "id": "oWNTcq0TU5_P"
   },
   "execution_count": null,
   "outputs": []
  },
  {
   "cell_type": "markdown",
   "source": [
    "## How to accelerate training with Batch Normalization"
   ],
   "metadata": {
    "id": "HwIlCzcKXYrG"
   }
  },
  {
   "cell_type": "code",
   "source": [
    "model = keras.Sequential(\n",
    "  [\n",
    "      keras.Input(shape=(parameters[\"shape\"], parameters[\"shape\"], 1)),\n",
    "      layers.Conv2D(32, kernel_size=(parameters[\"kernel_size\"], parameters[\"kernel_size\"]), activation=parameters[\"activation\"]),\n",
    "      layers.MaxPooling2D(pool_size=(parameters[\"pool_size\"], parameters[\"pool_size\"])),\n",
    "      layers.Conv2D(64, kernel_size=(parameters[\"kernel_size\"], parameters[\"kernel_size\"]), activation=parameters[\"activation\"]),\n",
    "      layers.MaxPooling2D(pool_size=(parameters[\"pool_size\"], parameters[\"pool_size\"])),\n",
    "      layers.Flatten(),\n",
    "      layers.Dropout(parameters[\"dropout\"]),\n",
    "      layers.Dense(64, activation=\"relu\"),\n",
    "      layers.BatchNormalization(),\n",
    "      layers.Dense(parameters[\"classes\"], activation=\"softmax\"),\n",
    "  ]\n",
    ")"
   ],
   "metadata": {
    "id": "467-0uZrXYrG"
   },
   "execution_count": null,
   "outputs": []
  },
  {
   "cell_type": "code",
   "source": [
    "model.compile(optimizer=parameters[\"optimizer\"],\n",
    "            loss=tf.keras.losses.SparseCategoricalCrossentropy(),\n",
    "            metrics=['accuracy'])"
   ],
   "metadata": {
    "id": "PBskbVR8XYrG"
   },
   "execution_count": null,
   "outputs": []
  },
  {
   "cell_type": "code",
   "source": [
    "history = model.fit(x=train_images, y=train_labels,validation_data=(test_images,test_labels), epochs=parameters[\"epochs\"])"
   ],
   "metadata": {
    "id": "dVB-GTqXXYrG"
   },
   "execution_count": null,
   "outputs": []
  },
  {
   "cell_type": "markdown",
   "source": [
    "## How to visualize a deep learning model"
   ],
   "metadata": {
    "id": "lPobGrQxXYrG"
   }
  },
  {
   "cell_type": "code",
   "source": [
    "model.summary()\n"
   ],
   "metadata": {
    "id": "oqYCHOyfXYrG"
   },
   "execution_count": null,
   "outputs": []
  },
  {
   "cell_type": "code",
   "source": [
    "tf.keras.utils.plot_model(\n",
    "    model,\n",
    "    to_file=\"model.png\",\n",
    "    show_shapes=True,\n",
    "    show_layer_names=True,\n",
    "    rankdir=\"TB\",\n",
    "    expand_nested=True,\n",
    "    dpi=96,\n",
    ")"
   ],
   "metadata": {
    "id": "X9Oo2fRAXYrG"
   },
   "execution_count": null,
   "outputs": []
  },
  {
   "cell_type": "markdown",
   "source": [
    "## How to halt training at the right time with Early Stopping"
   ],
   "metadata": {
    "id": "efHuBQhnXYrH"
   }
  },
  {
   "cell_type": "code",
   "source": [
    "callbacks = [tf.keras.callbacks.EarlyStopping(monitor='accuracy', mode=\"max\", patience=3)]\n",
    "# Compile the model\n",
    "model.compile(optimizer=parameters[\"optimizer\"],\n",
    "            loss=tf.keras.losses.SparseCategoricalCrossentropy(),\n",
    "            metrics=['accuracy'])\n",
    "history = model.fit(x=train_images, y=train_labels,validation_data=(test_images,test_labels), epochs=parameters[\"epochs\"],callbacks=callbacks)"
   ],
   "metadata": {
    "id": "VKTR9qxnXYrH"
   },
   "execution_count": null,
   "outputs": []
  },
  {
   "cell_type": "markdown",
   "source": [
    "## How to define custom callbacks"
   ],
   "metadata": {
    "id": "MMJY9AJLXYrH"
   }
  },
  {
   "cell_type": "code",
   "source": [
    "from tensorflow.keras.callbacks import Callback \n",
    "class CustomCallback(Callback):\n",
    "\n",
    "    def on_epoch_end(self, epoch, logs=None): \n",
    "      keys = list(logs.keys())\n",
    "      print(\"End epoch {} of training; got log keys: {}\".format(epoch, keys))\n"
   ],
   "metadata": {
    "id": "k0VKxvamU-Nj"
   },
   "execution_count": null,
   "outputs": []
  },
  {
   "cell_type": "code",
   "source": [
    "# Compile the model\n",
    "model.compile(optimizer=parameters[\"optimizer\"],\n",
    "            loss=tf.keras.losses.SparseCategoricalCrossentropy(),\n",
    "            metrics=['accuracy'])\n",
    "model.fit(x=train_images, y=train_labels, validation_data=(test_images,test_labels),epochs=parameters[\"epochs\"], callbacks=[CustomCallback()])"
   ],
   "metadata": {
    "id": "2ppIeK6kU-Gx"
   },
   "execution_count": null,
   "outputs": []
  },
  {
   "cell_type": "markdown",
   "source": [
    "## How to save and load your model"
   ],
   "metadata": {
    "id": "yUqZqAKTXYrH"
   }
  },
  {
   "cell_type": "code",
   "source": [
    "model.save_weights('checkpoints/my_checkpoint')\n",
    "model.save(\"saved_model\")"
   ],
   "metadata": {
    "id": "gQPtRVfHXYrH"
   },
   "execution_count": null,
   "outputs": []
  },
  {
   "cell_type": "code",
   "source": [
    "new_model = tf.keras.models.load_model('saved_model')\n",
    "new_model.summary()"
   ],
   "metadata": {
    "id": "Xx77wsRiXYrI"
   },
   "execution_count": null,
   "outputs": []
  },
  {
   "cell_type": "markdown",
   "source": [
    "## Where to go from here\n",
    "Follow us on [LinkedIn](https://www.linkedin.com/company/mlnuggets), [Twitter](https://twitter.com/ml_nuggets), [GitHub](https://github.com/mlnuggets) and subscribe to our [blog](https://www.machinelearningnuggets.com/#/portal) so that you don't miss a new issue."
   ],
   "metadata": {
    "id": "uifTErbfGnZr"
   }
  },
  {
   "cell_type": "code",
   "execution_count": null,
   "outputs": [],
   "source": [],
   "metadata": {
    "collapsed": false,
    "pycharm": {
     "name": "#%%\n"
    }
   }
  }
 ]
}
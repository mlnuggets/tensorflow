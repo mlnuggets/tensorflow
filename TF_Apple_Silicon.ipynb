{
 "cells": [
  {
   "cell_type": "markdown",
   "metadata": {
    "id": "fhhUGGKxGutz"
   },
   "source": [
    "## # How to train deep learning models on Apple Silicon GPU\n",
    "\n",
    "Click the image below to read the post online.\n",
    "\n",
    "<a target=\"_blank\" href=\"www.machinelearningnuggets.com/apple-silicon-gpu\"><img src=\"https://www.machinelearningnuggets.com/ezoimgfmt/digitalpress.fra1.cdn.digitaloceanspaces.com/mhujhsj/2022/07/logho-1.png?ezimgfmt=ng:webp/ngcb1\" alt=\"Open in ML Nuggets\"></a>"
   ]
  },
  {
   "cell_type": "code",
   "execution_count": null,
   "metadata": {
    "id": "j_OIM132TaFl"
   },
   "outputs": [],
   "source": [
    "!pip install layer -U"
   ]
  },
  {
   "cell_type": "code",
   "execution_count": 1,
   "metadata": {
    "id": "PniS-Th7RKUr",
    "tags": []
   },
   "outputs": [],
   "source": [
    "import tensorflow as tf"
   ]
  },
  {
   "cell_type": "code",
   "execution_count": 2,
   "metadata": {
    "id": "X_mZIb85CCNo",
    "tags": []
   },
   "outputs": [
    {
     "name": "stdout",
     "output_type": "stream",
     "text": [
      "2.8.0\n"
     ]
    }
   ],
   "source": [
    "print(tf.__version__)"
   ]
  },
  {
   "cell_type": "code",
   "execution_count": 3,
   "metadata": {
    "id": "DG-DmqeTUNQ0",
    "tags": []
   },
   "outputs": [],
   "source": [
    "from tensorflow import keras\n",
    "from tensorflow.keras import layers\n",
    "import matplotlib.pyplot as plt\n",
    "import pandas as pd\n",
    "import numpy as np"
   ]
  },
  {
   "cell_type": "markdown",
   "metadata": {
    "id": "jG5Rql1_XYrD"
   },
   "source": [
    "## Load the dataset"
   ]
  },
  {
   "cell_type": "code",
   "execution_count": 4,
   "metadata": {
    "id": "kvtAAgE4UX84",
    "tags": []
   },
   "outputs": [
    {
     "data": {
      "application/vnd.jupyter.widget-view+json": {
       "model_id": "33335d4b9a09465baea5e16bfb2a10cd",
       "version_major": 2,
       "version_minor": 0
      },
      "text/plain": [
       "Output()"
      ]
     },
     "metadata": {},
     "output_type": "display_data"
    },
    {
     "data": {
      "text/html": [
       "<pre style=\"white-space:pre;overflow-x:auto;line-height:normal;font-family:Menlo,'DejaVu Sans Mono',consolas,'Courier New',monospace\"></pre>\n"
      ],
      "text/plain": []
     },
     "metadata": {},
     "output_type": "display_data"
    },
    {
     "data": {
      "text/html": [
       "<pre style=\"white-space:pre;overflow-x:auto;line-height:normal;font-family:Menlo,'DejaVu Sans Mono',consolas,'Courier New',monospace\">\n",
       "</pre>\n"
      ],
      "text/plain": [
       "\n"
      ]
     },
     "metadata": {},
     "output_type": "display_data"
    },
    {
     "data": {
      "application/vnd.jupyter.widget-view+json": {
       "model_id": "f365e4d5578b46078255fcfad737cf4a",
       "version_major": 2,
       "version_minor": 0
      },
      "text/plain": [
       "Output()"
      ]
     },
     "metadata": {},
     "output_type": "display_data"
    },
    {
     "data": {
      "text/html": [
       "<pre style=\"white-space:pre;overflow-x:auto;line-height:normal;font-family:Menlo,'DejaVu Sans Mono',consolas,'Courier New',monospace\"></pre>\n"
      ],
      "text/plain": []
     },
     "metadata": {},
     "output_type": "display_data"
    },
    {
     "data": {
      "text/html": [
       "<pre style=\"white-space:pre;overflow-x:auto;line-height:normal;font-family:Menlo,'DejaVu Sans Mono',consolas,'Courier New',monospace\">\n",
       "</pre>\n"
      ],
      "text/plain": [
       "\n"
      ]
     },
     "metadata": {},
     "output_type": "display_data"
    }
   ],
   "source": [
    "import layer\n",
    "mnist_train = layer.get_dataset('layer/fashion_mnist/datasets/fashion_mnist_train').to_pandas()\n",
    "mnist_test = layer.get_dataset('layer/fashion_mnist/datasets/fashion_mnist_test').to_pandas()"
   ]
  },
  {
   "cell_type": "code",
   "execution_count": 5,
   "metadata": {
    "id": "1C5-39JgWs2z",
    "tags": []
   },
   "outputs": [
    {
     "data": {
      "image/png": "[encoded data removed]",
      "text/plain": [
       "<PIL.Image.Image image mode=L size=28x28>"
      ]
     },
     "execution_count": 5,
     "metadata": {},
     "output_type": "execute_result"
    }
   ],
   "source": [
    "mnist_train[\"images\"][17]"
   ]
  },
  {
   "cell_type": "code",
   "execution_count": 6,
   "metadata": {
    "id": "Ef7Ic6oHWzbo",
    "tags": []
   },
   "outputs": [
    {
     "data": {
      "image/png": "[encoded data removed]",
      "text/plain": [
       "<PIL.Image.Image image mode=L size=28x28>"
      ]
     },
     "execution_count": 6,
     "metadata": {},
     "output_type": "execute_result"
    }
   ],
   "source": [
    "mnist_test[\"images\"][23]"
   ]
  },
  {
   "cell_type": "markdown",
   "metadata": {
    "id": "I0W048AbXYrE"
   },
   "source": [
    "## Data preprocessing"
   ]
  },
  {
   "cell_type": "code",
   "execution_count": 7,
   "metadata": {
    "id": "lGq2sCELUWCu",
    "tags": []
   },
   "outputs": [],
   "source": [
    "def images_to_np_array(image_column):\n",
    "    return np.array([np.array(im.getdata()).reshape((im.size[1], im.size[0])) for im in image_column])"
   ]
  },
  {
   "cell_type": "code",
   "execution_count": 8,
   "metadata": {
    "id": "eG3ecL0IUKtM",
    "tags": []
   },
   "outputs": [],
   "source": [
    "train_images = images_to_np_array(mnist_train.images)\n",
    "test_images = images_to_np_array(mnist_test.images)\n",
    "train_labels = mnist_train.labels\n",
    "test_labels = mnist_test.labels"
   ]
  },
  {
   "cell_type": "markdown",
   "metadata": {
    "id": "QalJciamXYrF"
   },
   "source": [
    "## Model definition"
   ]
  },
  {
   "cell_type": "code",
   "execution_count": 9,
   "metadata": {
    "id": "bvOCMiNFUPKG",
    "tags": []
   },
   "outputs": [
    {
     "name": "stdout",
     "output_type": "stream",
     "text": [
      "Metal device set to: Apple M1\n"
     ]
    }
   ],
   "source": [
    "parameters = {\"shape\":28, \"activation\": \"relu\", \"classes\": 10, \"units\":12, \"optimizer\":\"adam\", \"epochs\":100,\"kernel_size\":3,\"pool_size\":2, \"dropout\":0.5}\n",
    "# Setup the layers\n",
    "model = keras.Sequential(\n",
    "  [\n",
    "      keras.Input(shape=(parameters[\"shape\"], parameters[\"shape\"], 1)),\n",
    "      layers.Conv2D(32, kernel_size=(parameters[\"kernel_size\"], parameters[\"kernel_size\"]), activation=parameters[\"activation\"]),\n",
    "      layers.MaxPooling2D(pool_size=(parameters[\"pool_size\"], parameters[\"pool_size\"])),\n",
    "      layers.Conv2D(64, kernel_size=(parameters[\"kernel_size\"], parameters[\"kernel_size\"]), activation=parameters[\"activation\"]),\n",
    "      layers.MaxPooling2D(pool_size=(parameters[\"pool_size\"], parameters[\"pool_size\"])),\n",
    "      layers.Flatten(),\n",
    "      layers.Dropout(parameters[\"dropout\"]),\n",
    "      layers.Dense(parameters[\"classes\"], activation=\"softmax\"),\n",
    "  ]\n",
    ")"
   ]
  },
  {
   "cell_type": "markdown",
   "metadata": {
    "id": "FaYtEgO1XYrF"
   },
   "source": [
    "## Compiling the model"
   ]
  },
  {
   "cell_type": "code",
   "execution_count": 10,
   "metadata": {
    "id": "0FW5A0Ub9IHc",
    "tags": []
   },
   "outputs": [],
   "source": [
    "# Compile the model\n",
    "model.compile(optimizer=parameters[\"optimizer\"],\n",
    "            loss=tf.keras.losses.SparseCategoricalCrossentropy(),\n",
    "            metrics=['accuracy'])\n"
   ]
  },
  {
   "cell_type": "code",
   "execution_count": null,
   "metadata": {
    "id": "chop1CorU0Rn",
    "tags": []
   },
   "outputs": [
    {
     "name": "stdout",
     "output_type": "stream",
     "text": [
      "Epoch 1/100\n"
     ]
    },
    {
     "name": "stderr",
     "output_type": "stream",
     "text": [
      "2022-08-04 18:58:50.440854: W tensorflow/core/platform/profile_utils/cpu_utils.cc:128] Failed to get CPU frequency: 0 Hz\n"
     ]
    },
    {
     "name": "stdout",
     "output_type": "stream",
     "text": [
      "1875/1875 [==============================] - 15s 7ms/step - loss: 0.9010 - accuracy: 0.7519 - val_loss: 0.4864 - val_accuracy: 0.8168\n",
      "Epoch 2/100\n",
      "1875/1875 [==============================] - 12s 7ms/step - loss: 0.5157 - accuracy: 0.8110 - val_loss: 0.4316 - val_accuracy: 0.8409\n",
      "Epoch 3/100\n",
      "1875/1875 [==============================] - 12s 6ms/step - loss: 0.4601 - accuracy: 0.8342 - val_loss: 0.3992 - val_accuracy: 0.8567\n",
      "Epoch 4/100\n",
      "1875/1875 [==============================] - 12s 6ms/step - loss: 0.4193 - accuracy: 0.8468 - val_loss: 0.3885 - val_accuracy: 0.8577\n",
      "Epoch 5/100\n",
      "1875/1875 [==============================] - 13s 7ms/step - loss: 0.3983 - accuracy: 0.8532 - val_loss: 0.3541 - val_accuracy: 0.8724\n",
      "Epoch 6/100\n",
      "1875/1875 [==============================] - 12s 6ms/step - loss: 0.3824 - accuracy: 0.8593 - val_loss: 0.3701 - val_accuracy: 0.8647\n",
      "Epoch 7/100\n",
      "1875/1875 [==============================] - 12s 6ms/step - loss: 0.3681 - accuracy: 0.8640 - val_loss: 0.3480 - val_accuracy: 0.8711\n",
      "Epoch 8/100\n",
      "1875/1875 [==============================] - 12s 6ms/step - loss: 0.3538 - accuracy: 0.8698 - val_loss: 0.3440 - val_accuracy: 0.8738\n",
      "Epoch 9/100\n",
      "1875/1875 [==============================] - 12s 6ms/step - loss: 0.3583 - accuracy: 0.8693 - val_loss: 0.3544 - val_accuracy: 0.8698\n",
      "Epoch 10/100\n",
      "1875/1875 [==============================] - 12s 7ms/step - loss: 0.3507 - accuracy: 0.8700 - val_loss: 0.3347 - val_accuracy: 0.8785\n",
      "Epoch 11/100\n",
      "1875/1875 [==============================] - 12s 6ms/step - loss: 0.3373 - accuracy: 0.8754 - val_loss: 0.3442 - val_accuracy: 0.8768\n",
      "Epoch 12/100\n",
      "1875/1875 [==============================] - 12s 6ms/step - loss: 0.3434 - accuracy: 0.8749 - val_loss: 0.3399 - val_accuracy: 0.8765\n",
      "Epoch 13/100\n",
      "1875/1875 [==============================] - 12s 6ms/step - loss: 0.3288 - accuracy: 0.8784 - val_loss: 0.3349 - val_accuracy: 0.8806\n",
      "Epoch 14/100\n",
      "1875/1875 [==============================] - 12s 7ms/step - loss: 0.3288 - accuracy: 0.8796 - val_loss: 0.3291 - val_accuracy: 0.8806\n",
      "Epoch 15/100\n",
      "1875/1875 [==============================] - 12s 7ms/step - loss: 0.3342 - accuracy: 0.8777 - val_loss: 0.3789 - val_accuracy: 0.8662\n",
      "Epoch 16/100\n",
      "1875/1875 [==============================] - 13s 7ms/step - loss: 0.3460 - accuracy: 0.8729 - val_loss: 0.3399 - val_accuracy: 0.8774\n",
      "Epoch 17/100\n",
      "1875/1875 [==============================] - 12s 6ms/step - loss: 0.3425 - accuracy: 0.8743 - val_loss: 0.3373 - val_accuracy: 0.8796\n",
      "Epoch 18/100\n",
      "1875/1875 [==============================] - 12s 6ms/step - loss: 0.3358 - accuracy: 0.8748 - val_loss: 0.3495 - val_accuracy: 0.8774\n",
      "Epoch 19/100\n",
      "1875/1875 [==============================] - 12s 6ms/step - loss: 0.3354 - accuracy: 0.8770 - val_loss: 0.3310 - val_accuracy: 0.8794\n",
      "Epoch 20/100\n",
      "1875/1875 [==============================] - 12s 7ms/step - loss: 0.3327 - accuracy: 0.8757 - val_loss: 0.3254 - val_accuracy: 0.8804\n",
      "Epoch 21/100\n",
      "1875/1875 [==============================] - 12s 6ms/step - loss: 0.3282 - accuracy: 0.8797 - val_loss: 0.3310 - val_accuracy: 0.8779\n",
      "Epoch 22/100\n",
      "1875/1875 [==============================] - 12s 6ms/step - loss: 0.3307 - accuracy: 0.8776 - val_loss: 0.3328 - val_accuracy: 0.8841\n",
      "Epoch 23/100\n",
      "1875/1875 [==============================] - 12s 6ms/step - loss: 0.3288 - accuracy: 0.8762 - val_loss: 0.3328 - val_accuracy: 0.8789\n",
      "Epoch 24/100\n",
      "1875/1875 [==============================] - 12s 6ms/step - loss: 0.3200 - accuracy: 0.8801 - val_loss: 0.3615 - val_accuracy: 0.8711\n",
      "Epoch 25/100\n",
      "1875/1875 [==============================] - 13s 7ms/step - loss: 0.3202 - accuracy: 0.8807 - val_loss: 0.3432 - val_accuracy: 0.8782\n",
      "Epoch 26/100\n",
      "1875/1875 [==============================] - 12s 6ms/step - loss: 0.3191 - accuracy: 0.8815 - val_loss: 0.3306 - val_accuracy: 0.8796\n",
      "Epoch 27/100\n",
      "1875/1875 [==============================] - 12s 6ms/step - loss: 0.3146 - accuracy: 0.8838 - val_loss: 0.3300 - val_accuracy: 0.8835\n",
      "Epoch 28/100\n",
      "1875/1875 [==============================] - 12s 6ms/step - loss: 0.3184 - accuracy: 0.8821 - val_loss: 0.3412 - val_accuracy: 0.8772\n",
      "Epoch 29/100\n",
      "1875/1875 [==============================] - 12s 6ms/step - loss: 0.3125 - accuracy: 0.8833 - val_loss: 0.3270 - val_accuracy: 0.8817\n",
      "Epoch 30/100\n",
      "1875/1875 [==============================] - 13s 7ms/step - loss: 0.3133 - accuracy: 0.8827 - val_loss: 0.3352 - val_accuracy: 0.8830\n",
      "Epoch 31/100\n",
      "1875/1875 [==============================] - 13s 7ms/step - loss: 0.3122 - accuracy: 0.8839 - val_loss: 0.3246 - val_accuracy: 0.8850\n",
      "Epoch 32/100\n",
      "1875/1875 [==============================] - 13s 7ms/step - loss: 0.3159 - accuracy: 0.8811 - val_loss: 0.3265 - val_accuracy: 0.8823\n",
      "Epoch 33/100\n",
      "1875/1875 [==============================] - 12s 6ms/step - loss: 0.3204 - accuracy: 0.8821 - val_loss: 0.3752 - val_accuracy: 0.8737\n",
      "Epoch 34/100\n",
      "1875/1875 [==============================] - 12s 7ms/step - loss: 0.3113 - accuracy: 0.8847 - val_loss: 0.3445 - val_accuracy: 0.8820\n",
      "Epoch 35/100\n",
      "1875/1875 [==============================] - 12s 6ms/step - loss: 0.3171 - accuracy: 0.8825 - val_loss: 0.3341 - val_accuracy: 0.8799\n",
      "Epoch 36/100\n",
      "1875/1875 [==============================] - 12s 6ms/step - loss: 0.3122 - accuracy: 0.8824 - val_loss: 0.3191 - val_accuracy: 0.8864\n",
      "Epoch 37/100\n",
      "1875/1875 [==============================] - 12s 6ms/step - loss: 0.3130 - accuracy: 0.8829 - val_loss: 0.3255 - val_accuracy: 0.8840\n",
      "Epoch 38/100\n",
      "1875/1875 [==============================] - 13s 7ms/step - loss: 0.3091 - accuracy: 0.8848 - val_loss: 0.3331 - val_accuracy: 0.8823\n",
      "Epoch 39/100\n",
      "1875/1875 [==============================] - 13s 7ms/step - loss: 0.3098 - accuracy: 0.8846 - val_loss: 0.3746 - val_accuracy: 0.8722\n",
      "Epoch 40/100\n",
      "1875/1875 [==============================] - 13s 7ms/step - loss: 0.3078 - accuracy: 0.8856 - val_loss: 0.3415 - val_accuracy: 0.8848\n",
      "Epoch 41/100\n",
      "1875/1875 [==============================] - 13s 7ms/step - loss: 0.3051 - accuracy: 0.8862 - val_loss: 0.3578 - val_accuracy: 0.8718\n",
      "Epoch 42/100\n",
      "1875/1875 [==============================] - 12s 6ms/step - loss: 0.3097 - accuracy: 0.8847 - val_loss: 0.3516 - val_accuracy: 0.8773\n",
      "Epoch 43/100\n",
      "1875/1875 [==============================] - 12s 6ms/step - loss: 0.3065 - accuracy: 0.8855 - val_loss: 0.3523 - val_accuracy: 0.8770\n",
      "Epoch 44/100\n",
      "1875/1875 [==============================] - 13s 7ms/step - loss: 0.3101 - accuracy: 0.8867 - val_loss: 0.3439 - val_accuracy: 0.8823\n",
      "Epoch 45/100\n",
      "1875/1875 [==============================] - 12s 6ms/step - loss: 0.3084 - accuracy: 0.8842 - val_loss: 0.3406 - val_accuracy: 0.8823\n",
      "Epoch 46/100\n",
      "1875/1875 [==============================] - 14s 7ms/step - loss: 0.3061 - accuracy: 0.8855 - val_loss: 0.3374 - val_accuracy: 0.8791\n",
      "Epoch 47/100\n",
      "1875/1875 [==============================] - 13s 7ms/step - loss: 0.3073 - accuracy: 0.8850 - val_loss: 0.3450 - val_accuracy: 0.8839\n",
      "Epoch 48/100\n",
      "1875/1875 [==============================] - 13s 7ms/step - loss: 0.3077 - accuracy: 0.8854 - val_loss: 0.3541 - val_accuracy: 0.8759\n",
      "Epoch 49/100\n",
      "1875/1875 [==============================] - 13s 7ms/step - loss: 0.3069 - accuracy: 0.8866 - val_loss: 0.3534 - val_accuracy: 0.8803\n",
      "Epoch 50/100\n",
      "1875/1875 [==============================] - 14s 7ms/step - loss: 0.3050 - accuracy: 0.8870 - val_loss: 0.3412 - val_accuracy: 0.8827\n",
      "Epoch 51/100\n",
      "1875/1875 [==============================] - 12s 6ms/step - loss: 0.3054 - accuracy: 0.8859 - val_loss: 0.3628 - val_accuracy: 0.8784\n",
      "Epoch 52/100\n",
      "1875/1875 [==============================] - 12s 6ms/step - loss: 0.3057 - accuracy: 0.8870 - val_loss: 0.3605 - val_accuracy: 0.8711\n",
      "Epoch 53/100\n",
      "1875/1875 [==============================] - 13s 7ms/step - loss: 0.3077 - accuracy: 0.8867 - val_loss: 0.3497 - val_accuracy: 0.8764\n",
      "Epoch 54/100\n",
      "1875/1875 [==============================] - 13s 7ms/step - loss: 0.3044 - accuracy: 0.8870 - val_loss: 0.3411 - val_accuracy: 0.8839\n",
      "Epoch 55/100\n",
      "1875/1875 [==============================] - 11s 6ms/step - loss: 0.3008 - accuracy: 0.8877 - val_loss: 0.3473 - val_accuracy: 0.8826\n",
      "Epoch 56/100\n",
      "1875/1875 [==============================] - 12s 6ms/step - loss: 0.3074 - accuracy: 0.8844 - val_loss: 0.3502 - val_accuracy: 0.8815\n",
      "Epoch 57/100\n",
      "1875/1875 [==============================] - 15s 8ms/step - loss: 0.3047 - accuracy: 0.8868 - val_loss: 0.3403 - val_accuracy: 0.8828\n",
      "Epoch 58/100\n",
      "1875/1875 [==============================] - 13s 7ms/step - loss: 0.2997 - accuracy: 0.8874 - val_loss: 0.3738 - val_accuracy: 0.8599\n",
      "Epoch 59/100\n",
      "1875/1875 [==============================] - 12s 6ms/step - loss: 0.2999 - accuracy: 0.8870 - val_loss: 0.3450 - val_accuracy: 0.8818\n",
      "Epoch 60/100\n",
      "1875/1875 [==============================] - 13s 7ms/step - loss: 0.3035 - accuracy: 0.8872 - val_loss: 0.3625 - val_accuracy: 0.8737\n",
      "Epoch 61/100\n",
      "1875/1875 [==============================] - 12s 6ms/step - loss: 0.3033 - accuracy: 0.8875 - val_loss: 0.3642 - val_accuracy: 0.8819\n",
      "Epoch 62/100\n",
      "1875/1875 [==============================] - 13s 7ms/step - loss: 0.3012 - accuracy: 0.8887 - val_loss: 0.3497 - val_accuracy: 0.8805\n",
      "Epoch 63/100\n",
      "1875/1875 [==============================] - 14s 8ms/step - loss: 0.3028 - accuracy: 0.8880 - val_loss: 0.3538 - val_accuracy: 0.8820\n",
      "Epoch 64/100\n",
      "1875/1875 [==============================] - 12s 6ms/step - loss: 0.3084 - accuracy: 0.8863 - val_loss: 0.3539 - val_accuracy: 0.8793\n",
      "Epoch 65/100\n",
      "1875/1875 [==============================] - 13s 7ms/step - loss: 0.3024 - accuracy: 0.8875 - val_loss: 0.3604 - val_accuracy: 0.8796\n",
      "Epoch 66/100\n",
      "1875/1875 [==============================] - 13s 7ms/step - loss: 0.3015 - accuracy: 0.8878 - val_loss: 0.3680 - val_accuracy: 0.8812\n",
      "Epoch 67/100\n",
      "1875/1875 [==============================] - 13s 7ms/step - loss: 0.3009 - accuracy: 0.8879 - val_loss: 0.3662 - val_accuracy: 0.8785\n",
      "Epoch 68/100\n",
      "1875/1875 [==============================] - 13s 7ms/step - loss: 0.2954 - accuracy: 0.8891 - val_loss: 0.3528 - val_accuracy: 0.8786\n",
      "Epoch 69/100\n",
      "1875/1875 [==============================] - 11s 6ms/step - loss: 0.2987 - accuracy: 0.8879 - val_loss: 0.3386 - val_accuracy: 0.8840\n",
      "Epoch 70/100\n",
      "1875/1875 [==============================] - 11s 6ms/step - loss: 0.3030 - accuracy: 0.8887 - val_loss: 0.3428 - val_accuracy: 0.8777\n",
      "Epoch 71/100\n",
      "1875/1875 [==============================] - 12s 6ms/step - loss: 0.3042 - accuracy: 0.8859 - val_loss: 0.3763 - val_accuracy: 0.8790\n",
      "Epoch 72/100\n",
      "1875/1875 [==============================] - 12s 6ms/step - loss: 0.2995 - accuracy: 0.8882 - val_loss: 0.3652 - val_accuracy: 0.8747\n",
      "Epoch 73/100\n",
      "1875/1875 [==============================] - 13s 7ms/step - loss: 0.3042 - accuracy: 0.8859 - val_loss: 0.3618 - val_accuracy: 0.8757\n",
      "Epoch 74/100\n",
      "1875/1875 [==============================] - 12s 6ms/step - loss: 0.2978 - accuracy: 0.8904 - val_loss: 0.3591 - val_accuracy: 0.8750\n",
      "Epoch 75/100\n",
      "1875/1875 [==============================] - 12s 6ms/step - loss: 0.3040 - accuracy: 0.8881 - val_loss: 0.3649 - val_accuracy: 0.8820\n",
      "Epoch 76/100\n",
      " 355/1875 [====>.........................] - ETA: 8s - loss: 0.3032 - accuracy: 0.8857"
     ]
    }
   ],
   "source": [
    "# Train it!\n",
    "history = model.fit(x=train_images, y=train_labels,validation_data=(test_images,test_labels), epochs=parameters[\"epochs\"])"
   ]
  },
  {
   "cell_type": "markdown",
   "metadata": {
    "id": "plbsVg9YXYrF"
   },
   "source": [
    "## How to plot model learning curves"
   ]
  },
  {
   "cell_type": "code",
   "execution_count": 12,
   "metadata": {
    "id": "a1-W7H_bU3eJ"
   },
   "outputs": [
    {
     "data": {
      "image/png": "[encoded data removed]",
      "text/plain": [
       "<Figure size 432x288 with 1 Axes>"
      ]
     },
     "metadata": {
      "needs_background": "light"
     },
     "output_type": "display_data"
    },
    {
     "data": {
      "image/png": "[encoded data removed]",
      "text/plain": [
       "<Figure size 432x288 with 1 Axes>"
      ]
     },
     "metadata": {
      "needs_background": "light"
     },
     "output_type": "display_data"
    }
   ],
   "source": [
    "metrics_df = pd.DataFrame(history.history)\n",
    "metrics_df[[\"loss\",\"val_loss\"]].plot();\n",
    "metrics_df[[\"accuracy\",\"val_accuracy\"]].plot();\n"
   ]
  },
  {
   "cell_type": "markdown",
   "metadata": {
    "id": "rWUZSoOdXYrG"
   },
   "source": [
    "## Model evaluation"
   ]
  },
  {
   "cell_type": "code",
   "execution_count": 13,
   "metadata": {
    "id": "oWNTcq0TU5_P"
   },
   "outputs": [
    {
     "name": "stdout",
     "output_type": "stream",
     "text": [
      "313/313 - 1s - loss: 0.3788 - accuracy: 0.8751 - 1s/epoch - 4ms/step\n"
     ]
    }
   ],
   "source": [
    "# And finally evaluate the accuracy\n",
    "test_loss, test_acc = model.evaluate(test_images,  test_labels, verbose=2)\n",
    "predictions = model.predict(test_images)\n",
    "df = pd.DataFrame(predictions, columns=[\"0\",\"1\",\"2\",\"3\",\"4\",\"5\",\"6\",\"7\",\"8\",\"9\"])"
   ]
  },
  {
   "cell_type": "markdown",
   "metadata": {
    "id": "uifTErbfGnZr"
   },
   "source": [
    "## Where to go from here\n",
    "Follow us on [LinkedIn](https://www.linkedin.com/company/mlnuggets), [Twitter](https://twitter.com/ml_nuggets), [GitHub](https://github.com/mlnuggets) and subscribe to our [blog](https://www.machinelearningnuggets.com/#/portal) so that you don't miss a new issue."
   ]
  }
 ],
 "metadata": {
  "accelerator": "GPU",
  "colab": {
   "collapsed_sections": [],
   "name": "cnn.ipynb",
   "provenance": []
  },
  "gpuClass": "standard",
  "kernelspec": {
   "display_name": "Python 3 (ipykernel)",
   "language": "python",
   "name": "python3"
  },
  "language_info": {
   "codemirror_mode": {
    "name": "ipython",
    "version": 3
   },
   "file_extension": ".py",
   "mimetype": "text/x-python",
   "name": "python",
   "nbconvert_exporter": "python",
   "pygments_lexer": "ipython3",
   "version": "3.8.13"
  }
 },
 "nbformat": 4,
 "nbformat_minor": 4
}
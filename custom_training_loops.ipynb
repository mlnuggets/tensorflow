{
  "cells": [
    {
      "cell_type": "markdown",
      "source": [
        "# How to create custom training loops in Keras\n",
        "Click the image below to read the post online.\n",
        "\n",
        "<a target=\"_blank\" href=\"https://www.machinelearningnuggets.com/keras-custom-training-loops\n",
        "\"><img src=\"https://www.machinelearningnuggets.com/ezoimgfmt/digitalpress.fra1.cdn.digitaloceanspaces.com/mhujhsj/2022/07/logho-1.png?ezimgfmt=ng:webp/ngcb1\" alt=\"Open in ML Nuggets\"></a>"
      ],
      "metadata": {
        "id": "ToyDzGjyhP9g"
      },
      "id": "ToyDzGjyhP9g"
    },
    {
      "cell_type": "code",
      "execution_count": null,
      "id": "cebfbee1-03e3-4540-a09a-d4373b519804",
      "metadata": {
        "id": "cebfbee1-03e3-4540-a09a-d4373b519804"
      },
      "outputs": [],
      "source": [
        "pip install layer"
      ]
    },
    {
      "cell_type": "code",
      "source": [
        "import layer\n",
        "mnist_train = layer.get_dataset('layer/fashion_mnist/datasets/fashion_mnist_train').to_pandas()\n",
        "mnist_test = layer.get_dataset('layer/fashion_mnist/datasets/fashion_mnist_test').to_pandas()"
      ],
      "metadata": {
        "id": "T2CYR6AhvNG8"
      },
      "id": "T2CYR6AhvNG8",
      "execution_count": null,
      "outputs": []
    },
    {
      "cell_type": "code",
      "source": [
        "mnist_train[\"images\"][17]"
      ],
      "metadata": {
        "id": "bvAS3CqXvTQg"
      },
      "id": "bvAS3CqXvTQg",
      "execution_count": null,
      "outputs": []
    },
    {
      "cell_type": "code",
      "source": [
        "mnist_test[\"images\"][23]"
      ],
      "metadata": {
        "id": "fzywVnqUDWPX"
      },
      "id": "fzywVnqUDWPX",
      "execution_count": null,
      "outputs": []
    },
    {
      "cell_type": "code",
      "source": [
        "from tensorflow import keras\n",
        "from tensorflow.keras import layers\n",
        "import matplotlib.pyplot as plt\n",
        "import pandas as pd\n",
        "import numpy as np\n",
        "import tensorflow as tf"
      ],
      "metadata": {
        "id": "3jWhZqYuyWaf"
      },
      "id": "3jWhZqYuyWaf",
      "execution_count": null,
      "outputs": []
    },
    {
      "cell_type": "code",
      "source": [
        "import numpy as np\n",
        "def images_to_np_array(image_column):\n",
        "    return np.array([np.array(im.getdata()).reshape((im.size[1], im.size[0])) for im in image_column])\n",
        "train_images = images_to_np_array(mnist_train.images)\n",
        "test_images = images_to_np_array(mnist_test.images)\n",
        "train_labels = mnist_train.labels\n",
        "test_labels = mnist_test.labels"
      ],
      "metadata": {
        "id": "niznNkJUvTTZ"
      },
      "id": "niznNkJUvTTZ",
      "execution_count": null,
      "outputs": []
    },
    {
      "cell_type": "code",
      "source": [
        "train_images.shape"
      ],
      "metadata": {
        "id": "GcQqdj8cJNrq"
      },
      "id": "GcQqdj8cJNrq",
      "execution_count": null,
      "outputs": []
    },
    {
      "cell_type": "code",
      "source": [
        "train_images = train_images / 255.0\n",
        "test_images = test_images / 255.0\n",
        "# # Make sure images have shape (28, 28, 1)\n",
        "train_images = np.expand_dims(train_images, -1)\n",
        "test_images = np.expand_dims(test_images, -1)"
      ],
      "metadata": {
        "id": "z6RyVLKIxZob"
      },
      "id": "z6RyVLKIxZob",
      "execution_count": null,
      "outputs": []
    },
    {
      "cell_type": "code",
      "source": [
        "train_images.shape"
      ],
      "metadata": {
        "id": "aBsR1wLMIegJ"
      },
      "id": "aBsR1wLMIegJ",
      "execution_count": null,
      "outputs": []
    },
    {
      "cell_type": "code",
      "execution_count": null,
      "id": "d2c964c6-6ee4-4e2b-990b-0775cadd3be7",
      "metadata": {
        "id": "d2c964c6-6ee4-4e2b-990b-0775cadd3be7"
      },
      "outputs": [],
      "source": [
        "ds_train_batch = tf.data.Dataset.from_tensor_slices((train_images, train_labels))"
      ]
    },
    {
      "cell_type": "code",
      "execution_count": null,
      "id": "c4d7b2f2-c939-4856-aab6-92af3210d21d",
      "metadata": {
        "id": "c4d7b2f2-c939-4856-aab6-92af3210d21d"
      },
      "outputs": [],
      "source": [
        "training_data = ds_train_batch.batch(32)"
      ]
    },
    {
      "cell_type": "code",
      "execution_count": null,
      "id": "36a7ee77-510e-4879-8342-0a7d0e1cb979",
      "metadata": {
        "id": "36a7ee77-510e-4879-8342-0a7d0e1cb979"
      },
      "outputs": [],
      "source": [
        "ds_test_batch = tf.data.Dataset.from_tensor_slices((test_images, test_labels))\n",
        "testing_data = ds_test_batch.batch(32)"
      ]
    },
    {
      "cell_type": "code",
      "execution_count": null,
      "id": "54685de9-2f0f-4abe-ba9e-17c9e23ee50d",
      "metadata": {
        "id": "54685de9-2f0f-4abe-ba9e-17c9e23ee50d"
      },
      "outputs": [],
      "source": [
        "parameters = {\"shape\":28, \"activation\": \"relu\", \"classes\": 10, \"units\":12, \"optimizer\":\"adam\", \"epochs\":100,\"kernel_size\":3,\"pool_size\":2, \"dropout\":0.5}"
      ]
    },
    {
      "cell_type": "code",
      "execution_count": null,
      "id": "dfce6438-f0dd-4d53-9863-e7a14391e8b8",
      "metadata": {
        "id": "dfce6438-f0dd-4d53-9863-e7a14391e8b8"
      },
      "outputs": [],
      "source": [
        "class CustomBlock(tf.keras.Model):\n",
        "  def __init__(self, filters):\n",
        "    super(CustomBlock, self).__init__(name='')\n",
        "    filters1, filters2 = filters\n",
        "    self.conv2a = layers.Conv2D(filters=filters1,input_shape=(28,28,1), kernel_size=(parameters[\"kernel_size\"], parameters[\"kernel_size\"]), activation=parameters[\"activation\"])\n",
        "\n",
        "    self.maxpool1a = layers.MaxPooling2D(pool_size=(parameters[\"pool_size\"], parameters[\"pool_size\"]))\n",
        "\n",
        "    self.conv2b = layers.Conv2D(filters2, kernel_size=(parameters[\"kernel_size\"], parameters[\"kernel_size\"]), activation=parameters[\"activation\"])\n",
        "\n",
        "    self.maxpool2b = layers.MaxPooling2D(pool_size=(parameters[\"pool_size\"], parameters[\"pool_size\"]))\n",
        "\n",
        "    self.flatten1a = layers.Flatten()\n",
        "    self.dropout1a = layers.Dropout(parameters[\"dropout\"])\n",
        "    self.dense1a = layers.Dense(parameters[\"classes\"], activation=\"softmax\")\n",
        "\n",
        "  def call(self, input_tensor):\n",
        "    x = self.conv2a(input_tensor)\n",
        "    x = tf.nn.relu(x)\n",
        "    x = self.maxpool1a(x)\n",
        "\n",
        "    x = self.conv2b(x)\n",
        "    x = tf.nn.relu(x)\n",
        "    x = self.maxpool2b(x)\n",
        "\n",
        "    x = self.flatten1a(x)\n",
        "    x = self.dropout1a(x)\n",
        "    x = self.dense1a(x)\n",
        "    return tf.nn.softmax(x)\n"
      ]
    },
    {
      "cell_type": "code",
      "execution_count": null,
      "id": "844c9102-4010-4653-b0db-b11e88927cc8",
      "metadata": {
        "id": "844c9102-4010-4653-b0db-b11e88927cc8"
      },
      "outputs": [],
      "source": [
        "model = CustomBlock([32,64])"
      ]
    },
    {
      "cell_type": "code",
      "execution_count": null,
      "id": "c67655f4-f72d-4921-bc21-8684ec15a3e9",
      "metadata": {
        "id": "c67655f4-f72d-4921-bc21-8684ec15a3e9"
      },
      "outputs": [],
      "source": [
        "input_shape = (1, 28, 28, 1)\n",
        "x = tf.random.normal(input_shape)\n",
        "_ = model(x)"
      ]
    },
    {
      "cell_type": "code",
      "execution_count": null,
      "id": "902aaf68-fa3c-4058-8ab6-fe19c816b41f",
      "metadata": {
        "id": "902aaf68-fa3c-4058-8ab6-fe19c816b41f"
      },
      "outputs": [],
      "source": [
        "x.shape"
      ]
    },
    {
      "cell_type": "code",
      "execution_count": null,
      "id": "13854637-85a7-4cb2-95d6-d686b7c3e1fc",
      "metadata": {
        "id": "13854637-85a7-4cb2-95d6-d686b7c3e1fc"
      },
      "outputs": [],
      "source": [
        "model.layers"
      ]
    },
    {
      "cell_type": "code",
      "execution_count": null,
      "id": "0b2421ac-151f-498d-9650-079279344117",
      "metadata": {
        "id": "0b2421ac-151f-498d-9650-079279344117"
      },
      "outputs": [],
      "source": [
        "len(model.variables)"
      ]
    },
    {
      "cell_type": "code",
      "execution_count": null,
      "id": "d6357f84-5ae7-4ad7-872c-3097db4afff4",
      "metadata": {
        "id": "d6357f84-5ae7-4ad7-872c-3097db4afff4"
      },
      "outputs": [],
      "source": [
        "model.summary()"
      ]
    },
    {
      "cell_type": "code",
      "execution_count": null,
      "id": "58a12a05-dbdb-43b4-8feb-4b063bf07c8a",
      "metadata": {
        "id": "58a12a05-dbdb-43b4-8feb-4b063bf07c8a"
      },
      "outputs": [],
      "source": [
        "predictions = model(test_images)\n",
        "predictions[:5]\n",
        "tf.nn.softmax(predictions)"
      ]
    },
    {
      "cell_type": "code",
      "execution_count": null,
      "id": "f93889db-0c8d-435c-9ec0-cb9d2ba5a469",
      "metadata": {
        "id": "f93889db-0c8d-435c-9ec0-cb9d2ba5a469"
      },
      "outputs": [],
      "source": [
        "print(\"Prediction: {}\".format(tf.math.argmax(predictions, axis=1)))\n",
        "print(\"    Labels: {}\".format(train_labels))"
      ]
    },
    {
      "cell_type": "code",
      "execution_count": null,
      "id": "86b68b8a-c851-4d48-a56a-7e7424e82f3d",
      "metadata": {
        "id": "86b68b8a-c851-4d48-a56a-7e7424e82f3d"
      },
      "outputs": [],
      "source": [
        "prediction = tf.math.argmax(predictions[:1], axis=1, output_type=tf.int64)\n",
        "prediction"
      ]
    },
    {
      "cell_type": "markdown",
      "id": "bd4bcd67-edc9-47d0-af05-7311a45f7b20",
      "metadata": {
        "id": "bd4bcd67-edc9-47d0-af05-7311a45f7b20"
      },
      "source": [
        "## Define the loss and gradients function"
      ]
    },
    {
      "cell_type": "code",
      "execution_count": null,
      "id": "77436ea3-8456-4bed-b04b-ddb94023bc7a",
      "metadata": {
        "id": "77436ea3-8456-4bed-b04b-ddb94023bc7a"
      },
      "outputs": [],
      "source": [
        "loss_object = tf.keras.losses.SparseCategoricalCrossentropy()"
      ]
    },
    {
      "cell_type": "code",
      "execution_count": null,
      "id": "9332934f-e0a4-49e7-ae9f-000d670b71e3",
      "metadata": {
        "id": "9332934f-e0a4-49e7-ae9f-000d670b71e3"
      },
      "outputs": [],
      "source": [
        "def loss(model, x, y, training):\n",
        "  # training=training is needed only if there are layers with different\n",
        "  # behavior during training versus inference (e.g. Dropout).\n",
        "  y_ = model(x, training=training)\n",
        "\n",
        "  return loss_object(y_true=y, y_pred=y_)\n",
        "\n",
        "l = loss(model, test_images, test_labels, training=False)\n",
        "print(\"Loss test: {}\".format(l))"
      ]
    },
    {
      "cell_type": "code",
      "execution_count": null,
      "id": "cfdd8c83-e77d-4b8d-a20b-1eb5ab21a29b",
      "metadata": {
        "id": "cfdd8c83-e77d-4b8d-a20b-1eb5ab21a29b"
      },
      "outputs": [],
      "source": [
        "def grad(model, inputs, targets):\n",
        "  with tf.GradientTape() as tape:\n",
        "    loss_value = loss(model, inputs, targets, training=True)\n",
        "  return loss_value, tape.gradient(loss_value, model.trainable_variables)"
      ]
    },
    {
      "cell_type": "markdown",
      "id": "cdc863a4-8599-4aa6-bea3-e478feaa0e8b",
      "metadata": {
        "id": "cdc863a4-8599-4aa6-bea3-e478feaa0e8b"
      },
      "source": [
        "## Create an optimizer"
      ]
    },
    {
      "cell_type": "code",
      "execution_count": null,
      "id": "ea63e112-740e-42bc-a90a-12355d70ec52",
      "metadata": {
        "id": "ea63e112-740e-42bc-a90a-12355d70ec52"
      },
      "outputs": [],
      "source": [
        "optimizer = tf.keras.optimizers.Adam()"
      ]
    },
    {
      "cell_type": "markdown",
      "id": "2e8abaee-2b3c-4cfe-ba45-f1b3ce8e7589",
      "metadata": {
        "id": "2e8abaee-2b3c-4cfe-ba45-f1b3ce8e7589"
      },
      "source": [
        "## Training loop"
      ]
    },
    {
      "cell_type": "code",
      "execution_count": null,
      "id": "9e0061b6-b54a-41cc-877f-c9fe34a306bd",
      "metadata": {
        "id": "9e0061b6-b54a-41cc-877f-c9fe34a306bd"
      },
      "outputs": [],
      "source": [
        "from tqdm.notebook import trange"
      ]
    },
    {
      "cell_type": "code",
      "execution_count": null,
      "id": "2696e299-bc72-4e40-b6ad-add8071a2205",
      "metadata": {
        "id": "2696e299-bc72-4e40-b6ad-add8071a2205"
      },
      "outputs": [],
      "source": [
        "## Note: Rerunning this cell uses the same model parameters\n",
        "\n",
        "# Keep results for plotting\n",
        "train_loss_results = []\n",
        "train_accuracy_results = []\n",
        "\n",
        "num_epochs = 10\n",
        "\n",
        "for epoch in trange(num_epochs):\n",
        "  epoch_loss_avg = tf.keras.metrics.Mean()\n",
        "  epoch_accuracy = tf.keras.metrics.SparseCategoricalAccuracy()\n",
        "\n",
        "  # Training loop - using batches of 32\n",
        "  for x, y in training_data:\n",
        "    # Optimize the model\n",
        "    loss_value, grads = grad(model, x, y)\n",
        "    optimizer.apply_gradients(zip(grads, model.trainable_variables))\n",
        "\n",
        "    # Track progress\n",
        "    epoch_loss_avg.update_state(loss_value)  # Add current batch loss\n",
        "    # Compare predicted label to actual label\n",
        "    # training=True is needed only if there are layers with different\n",
        "    # behavior during training versus inference (e.g. Dropout).\n",
        "    epoch_accuracy.update_state(y, model(x, training=True))\n",
        "\n",
        "  # End epoch\n",
        "  train_loss_results.append(epoch_loss_avg.result())\n",
        "  train_accuracy_results.append(epoch_accuracy.result())\n",
        "  print(\"Epoch {}: Loss: {:.3f}, Accuracy: {:.3%}\".format(epoch + 1,\n",
        "                                                                epoch_loss_avg.result(),\n",
        "                                                                epoch_accuracy.result()))"
      ]
    },
    {
      "cell_type": "markdown",
      "id": "e64a0d51-96e8-444d-85ea-310423f450fb",
      "metadata": {
        "id": "e64a0d51-96e8-444d-85ea-310423f450fb"
      },
      "source": [
        "## Visualize the loss function over time"
      ]
    },
    {
      "cell_type": "code",
      "execution_count": null,
      "id": "f2526601-cf8d-428c-bd7d-dcd579cd9847",
      "metadata": {
        "id": "f2526601-cf8d-428c-bd7d-dcd579cd9847"
      },
      "outputs": [],
      "source": [
        "fig, axes = plt.subplots(2, sharex=True, figsize=(12, 8))\n",
        "fig.suptitle('Training Metrics')\n",
        "\n",
        "axes[0].set_ylabel(\"Loss\", fontsize=14)\n",
        "axes[0].plot(train_loss_results)\n",
        "\n",
        "axes[1].set_ylabel(\"Accuracy\", fontsize=14)\n",
        "axes[1].set_xlabel(\"Epoch\", fontsize=14)\n",
        "axes[1].plot(train_accuracy_results)\n",
        "plt.show()"
      ]
    },
    {
      "cell_type": "markdown",
      "id": "2ff355d2-2ea1-49c7-8bcf-97ea90ff0134",
      "metadata": {
        "id": "2ff355d2-2ea1-49c7-8bcf-97ea90ff0134"
      },
      "source": [
        "## Evaluate the model on the test dataset"
      ]
    },
    {
      "cell_type": "code",
      "execution_count": null,
      "id": "065d16ae-925b-4705-8c12-bbaa1ff6fecf",
      "metadata": {
        "id": "065d16ae-925b-4705-8c12-bbaa1ff6fecf"
      },
      "outputs": [],
      "source": [
        "test_accuracy = tf.keras.metrics.Accuracy()\n",
        "\n",
        "for (x, y) in testing_data:\n",
        "  # training=False is needed only if there are layers with different\n",
        "  # behavior during training versus inference (e.g. Dropout).\n",
        "  logits = model(x, training=False)    \n",
        "  prediction = tf.math.argmax(logits, axis=1, output_type=tf.int64)\n",
        "  test_accuracy(prediction, y)\n",
        "print(\"Test set accuracy: {:.3%}\".format(test_accuracy.result()))"
      ]
    },
    {
      "cell_type": "code",
      "execution_count": null,
      "id": "e13b6af1-a84c-41f5-abb6-6da09fd4e544",
      "metadata": {
        "id": "e13b6af1-a84c-41f5-abb6-6da09fd4e544"
      },
      "outputs": [],
      "source": [
        "tf.stack([y,prediction],axis=1)"
      ]
    },
    {
      "cell_type": "markdown",
      "id": "8fe8445b-d78c-403c-9700-d53d25e56ac2",
      "metadata": {
        "id": "8fe8445b-d78c-403c-9700-d53d25e56ac2"
      },
      "source": [
        "## Use the trained model to make predictions"
      ]
    },
    {
      "cell_type": "code",
      "execution_count": null,
      "id": "2d924bcc-5430-47dc-a70f-5f0648c18dfc",
      "metadata": {
        "id": "2d924bcc-5430-47dc-a70f-5f0648c18dfc"
      },
      "outputs": [],
      "source": [
        "# training=False is needed only if there are layers with different\n",
        "# behavior during training versus inference (e.g. Dropout).\n",
        "predictions = model(test_images[0:5], training=False)\n",
        "class_names = [\"T-shirt/top\",\"Trouser\",\"Pullover\",\"Dress\",\"Coat\",\"Sandal\",\"Shirt\",\"Sneaker\",\"Bag\",\"Ankle boot\"]\n",
        "for i, logits in enumerate(predictions):\n",
        "  class_idx = tf.math.argmax(logits).numpy()\n",
        "  p = tf.nn.softmax(logits)[class_idx]\n",
        "  name = class_names[class_idx]\n",
        "  print(\"Image {} prediction: {} ({:4.1f}%)\".format(i, name, 100*p))"
      ]
    },
    {
      "cell_type": "markdown",
      "source": [
        "## Where to go from here\n",
        "Follow us on [LinkedIn](https://www.linkedin.com/company/mlnuggets), [Twitter](https://twitter.com/ml_nuggets), [GitHub](https://github.com/mlnuggets) and subscribe to our [blog](https://www.machinelearningnuggets.com/#/portal) so that you don't miss a new issue."
      ],
      "metadata": {
        "id": "-jg-YcdphuVw"
      },
      "id": "-jg-YcdphuVw"
    }
  ],
  "metadata": {
    "kernelspec": {
      "display_name": "Python 3 (ipykernel)",
      "language": "python",
      "name": "python3"
    },
    "language_info": {
      "codemirror_mode": {
        "name": "ipython",
        "version": 3
      },
      "file_extension": ".py",
      "mimetype": "text/x-python",
      "name": "python",
      "nbconvert_exporter": "python",
      "pygments_lexer": "ipython3",
      "version": "3.8.13"
    },
    "colab": {
      "name": "custom-training-loops.ipynb",
      "provenance": [],
      "collapsed_sections": []
    },
    "accelerator": "GPU",
    "gpuClass": "standard"
  },
  "nbformat": 4,
  "nbformat_minor": 5
}
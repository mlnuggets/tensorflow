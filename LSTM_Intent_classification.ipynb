{
  "nbformat": 4,
  "nbformat_minor": 0,
  "metadata": {
    "colab": {
      "name": "LSTM Intent classification",
      "provenance": [],
      "collapsed_sections": []
    },
    "kernelspec": {
      "name": "python3",
      "display_name": "Python 3"
    },
    "language_info": {
      "name": "python"
    }
  },
  "cells": [
    {
      "cell_type": "markdown",
      "source": [
        "## TensorFlow Recurrent Neural Networks (Complete guide with examples and code)\n",
        "\n",
        "Click the image below to read the post online.\n",
        "\n",
        "<a target=\"_blank\" href=\"https://www.machinelearningnuggets.com/tensorflow-lstm\n",
        "\"><img src=\"https://www.machinelearningnuggets.com/ezoimgfmt/digitalpress.fra1.cdn.digitaloceanspaces.com/mhujhsj/2022/07/logho-1.png?ezimgfmt=ng:webp/ngcb1\" alt=\"Open in ML Nuggets\"></a>"
      ],
      "metadata": {
        "id": "xyvMbCp0gT75"
      }
    },
    {
      "cell_type": "code",
      "execution_count": null,
      "metadata": {
        "id": "Hm4hE_l6NYZA"
      },
      "outputs": [],
      "source": [
        "import pandas as pd\n",
        "import numpy as np\n",
        "import re\n",
        "import tensorflow as tf\n",
        "import keras\n",
        "from keras.models import Sequential\n",
        "from keras.layers import Dense, LSTM, Dropout, Bidirectional, Embedding, SpatialDropout1D\n",
        "import matplotlib.pyplot as plt\n",
        "import nltk\n",
        "nltk.download(\"stopwords\")\n",
        "nltk.download(\"punkt\")\n",
        "from nltk.corpus import stopwords\n",
        "from sklearn.preprocessing import LabelEncoder\n",
        "from sklearn.model_selection import train_test_split\n",
        "from sklearn.metrics import classification_report"
      ]
    },
    {
      "cell_type": "code",
      "source": [
        "pip install wget"
      ],
      "metadata": {
        "id": "3y7Xez_shCwY"
      },
      "execution_count": null,
      "outputs": []
    },
    {
      "cell_type": "code",
      "source": [
        "import wget\n",
        "wget.download(\"https://ml.machinelearningnuggets.com/complaints.csv\")"
      ],
      "metadata": {
        "id": "i6WdARX3hDYz"
      },
      "execution_count": null,
      "outputs": []
    },
    {
      "cell_type": "code",
      "source": [
        "stopWords = set(stopwords.words('english'))"
      ],
      "metadata": {
        "id": "zRYj2oE8nxRv"
      },
      "execution_count": null,
      "outputs": []
    },
    {
      "cell_type": "code",
      "source": [
        "complaints = pd.read_csv(\"complaints.csv\")"
      ],
      "metadata": {
        "id": "fyS34lxwoWrq"
      },
      "execution_count": null,
      "outputs": []
    },
    {
      "cell_type": "code",
      "source": [
        "complaints = complaints[['Consumer complaint narrative','Product']]"
      ],
      "metadata": {
        "id": "38YJPH1iobSU"
      },
      "execution_count": null,
      "outputs": []
    },
    {
      "cell_type": "code",
      "source": [
        "complaints.dropna(inplace=True)"
      ],
      "metadata": {
        "id": "kVuh7w2dof1N"
      },
      "execution_count": null,
      "outputs": []
    },
    {
      "cell_type": "code",
      "source": [
        "symbols_regex = re.compile('[/(){}\\[\\]\\|@,;]')\n",
        "bad_symbols_regex = re.compile('[^0-9a-z #+_]')\n",
        "\n",
        "def clean_text(text):\n",
        "    text = text.replace('\\d+','')\n",
        "    text = text.lower()\n",
        "    text = symbols_regex.sub(' ', text)\n",
        "    text = bad_symbols_regex.sub('', text) \n",
        "    text = text.replace('x', '')\n",
        "    return text\n",
        "complaints['Consumer complaint narrative'] = complaints['Consumer complaint narrative'].apply(clean_text)\n"
      ],
      "metadata": {
        "id": "0xXiJNvHozTG"
      },
      "execution_count": null,
      "outputs": []
    },
    {
      "cell_type": "code",
      "source": [
        "complaints"
      ],
      "metadata": {
        "id": "F8EjC6ryxqXV"
      },
      "execution_count": null,
      "outputs": []
    },
    {
      "cell_type": "code",
      "source": [
        "complaints['Product'].value_counts().sort_values(ascending=False)"
      ],
      "metadata": {
        "id": "UAOl3B7ryZAC"
      },
      "execution_count": null,
      "outputs": []
    },
    {
      "cell_type": "code",
      "source": [
        "len(complaints['Product'].unique())"
      ],
      "metadata": {
        "id": "01dLMDq_4K7b"
      },
      "execution_count": null,
      "outputs": []
    },
    {
      "cell_type": "code",
      "source": [
        "complaints_text = complaints[\"Consumer complaint narrative\"]"
      ],
      "metadata": {
        "id": "yS8PDfJuMN36"
      },
      "execution_count": null,
      "outputs": []
    },
    {
      "cell_type": "code",
      "source": [
        "vectorize_layer = tf.keras.layers.TextVectorization(standardize='lower_and_strip_punctuation',max_tokens=5000,output_mode='int',output_sequence_length=512)\n",
        "vectorize_layer.adapt(complaints_text,batch_size=None)"
      ],
      "metadata": {
        "id": "5rmpNRlnL5Yx"
      },
      "execution_count": null,
      "outputs": []
    },
    {
      "cell_type": "code",
      "source": [
        "X_train_padded =  vectorize_layer(complaints_text)\n",
        "X_train_padded = X_train_padded.numpy()"
      ],
      "metadata": {
        "id": "2O88rVK7QEvs"
      },
      "execution_count": null,
      "outputs": []
    },
    {
      "cell_type": "code",
      "source": [
        "X_train_padded = np.reshape(X_train_padded, (np.shape(X_train_padded)[0], np.shape(X_train_padded)[1], 1 ))"
      ],
      "metadata": {
        "id": "utSCYAvEMtyK"
      },
      "execution_count": null,
      "outputs": []
    },
    {
      "cell_type": "code",
      "source": [
        "le = LabelEncoder()\n",
        "complaints['Product'] = le.fit_transform(complaints['Product'])\n"
      ],
      "metadata": {
        "id": "17LVCm_y4ctq"
      },
      "execution_count": null,
      "outputs": []
    },
    {
      "cell_type": "code",
      "source": [
        "y = complaints['Product']\n",
        "y = tf.keras.utils.to_categorical(y, 9)"
      ],
      "metadata": {
        "id": "YOy8N7489CEx"
      },
      "execution_count": null,
      "outputs": []
    },
    {
      "cell_type": "code",
      "source": [
        "X_train, X_test, y_train, y_test = train_test_split(X_train_padded,y, test_size = 0.3, random_state = 42)\n",
        "print(X_train.shape,y_train.shape)\n",
        "print(X_test.shape,y_test.shape)"
      ],
      "metadata": {
        "id": "y-XVEoyo9DPS"
      },
      "execution_count": null,
      "outputs": []
    },
    {
      "cell_type": "code",
      "source": [
        "classifier = Sequential()\n",
        "classifier.add(Embedding(50000, 100, input_length=X_train.shape[1]))\n",
        "classifier.add(SpatialDropout1D(0.2))\n",
        "classifier.add(LSTM(100, dropout=0.2, recurrent_dropout=0.2))\n",
        "classifier.add(Dense(9, activation='softmax'))"
      ],
      "metadata": {
        "id": "e8gPtLlo95t9"
      },
      "execution_count": null,
      "outputs": []
    },
    {
      "cell_type": "code",
      "source": [
        "classifier.summary()"
      ],
      "metadata": {
        "id": "OSvbYatvAw_x"
      },
      "execution_count": null,
      "outputs": []
    },
    {
      "cell_type": "code",
      "source": [
        "classifier.compile(loss='categorical_crossentropy', optimizer='adam', metrics=['accuracy'])"
      ],
      "metadata": {
        "id": "UeOq9yG6_5AA"
      },
      "execution_count": null,
      "outputs": []
    },
    {
      "cell_type": "code",
      "source": [
        "history = classifier.fit(X_train, y_train, epochs=5, batch_size=64,validation_split=0.1,callbacks=[tf.keras.callbacks.EarlyStopping(monitor='val_loss', patience=3, min_delta=0.0001)])\n"
      ],
      "metadata": {
        "id": "pCYWtyxXAVnU"
      },
      "execution_count": null,
      "outputs": []
    },
    {
      "cell_type": "code",
      "source": [
        "y_preds = classifier.predict(X_test)"
      ],
      "metadata": {
        "id": "PgnDghw8AcAt"
      },
      "execution_count": null,
      "outputs": []
    },
    {
      "cell_type": "code",
      "source": [
        "print(y_test.shape)"
      ],
      "metadata": {
        "id": "IYz3ZFdEVRsI"
      },
      "execution_count": null,
      "outputs": []
    },
    {
      "cell_type": "markdown",
      "source": [
        "## Where to go from here\n",
        "Follow us on [LinkedIn](https://www.linkedin.com/company/mlnuggets), [Twitter](https://twitter.com/ml_nuggets), [GitHub](https://github.com/mlnuggets) and subscribe to our [blog](https://www.machinelearningnuggets.com/#/portal) so that you don't miss a new issue."
      ],
      "metadata": {
        "id": "JJlSOVjDgcD6"
      }
    }
  ]
}
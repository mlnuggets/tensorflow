{
  "nbformat": 4,
  "nbformat_minor": 0,
  "metadata": {
    "colab": {
      "name": "LSTM Time Series Analysis.ipynb",
      "provenance": [],
      "collapsed_sections": []
    },
    "kernelspec": {
      "name": "python3",
      "display_name": "Python 3"
    },
    "language_info": {
      "name": "python"
    }
  },
  "cells": [
    {
      "cell_type": "markdown",
      "source": [
        "## TensorFlow Recurrent Neural Networks (Complete guide with examples and code)\n",
        "\n",
        "Click the image below to read the post online.\n",
        "\n",
        "<a target=\"_blank\" href=\"https://www.machinelearningnuggets.com/tensorflow-lstm\n",
        "\"><img src=\"https://www.machinelearningnuggets.com/ezoimgfmt/digitalpress.fra1.cdn.digitaloceanspaces.com/mhujhsj/2022/07/logho-1.png?ezimgfmt=ng:webp/ngcb1\" alt=\"Open in ML Nuggets\"></a>"
      ],
      "metadata": {
        "id": "D6OPWNlUgJ3j"
      }
    },
    {
      "cell_type": "code",
      "execution_count": null,
      "metadata": {
        "id": "Cwt55oJVM5Gj"
      },
      "outputs": [],
      "source": [
        "# !pip install tensorflow"
      ]
    },
    {
      "cell_type": "code",
      "source": [
        "# !pip install keras"
      ],
      "metadata": {
        "id": "-OYE1DaoPQaR"
      },
      "execution_count": null,
      "outputs": []
    },
    {
      "cell_type": "code",
      "source": [
        "import pandas as pd\n",
        "import numpy as np\n",
        "import tensorflow as tf\n",
        "import keras\n",
        "from keras.models import Sequential\n",
        "from keras.layers import Dense, LSTM, Dropout, Bidirectional\n",
        "from sklearn.preprocessing import MinMaxScaler\n",
        "import matplotlib.pyplot as plt"
      ],
      "metadata": {
        "id": "XKp4H_sJPWxA"
      },
      "execution_count": null,
      "outputs": []
    },
    {
      "cell_type": "code",
      "source": [
        "pip install wget"
      ],
      "metadata": {
        "id": "ep9SwNBagoLY"
      },
      "execution_count": null,
      "outputs": []
    },
    {
      "cell_type": "code",
      "source": [
        "import wget\n",
        "wget.download(\"https://ml.machinelearningnuggets.com/loans.csv\")"
      ],
      "metadata": {
        "id": "oRFXaHIJgqWK"
      },
      "execution_count": null,
      "outputs": []
    },
    {
      "cell_type": "code",
      "source": [
        "###Import the data\n",
        "loans = pd.read_csv(\"loans.csv\")"
      ],
      "metadata": {
        "id": "ce1J5uadPmds"
      },
      "execution_count": null,
      "outputs": []
    },
    {
      "cell_type": "code",
      "source": [
        "loans = loans[['created_at','amount']]"
      ],
      "metadata": {
        "id": "xKYxt51qQsBh"
      },
      "execution_count": null,
      "outputs": []
    },
    {
      "cell_type": "code",
      "source": [
        "loans['created_at'] = pd.DatetimeIndex(loans['created_at'])"
      ],
      "metadata": {
        "id": "e3XpqzbjQ2ip"
      },
      "execution_count": null,
      "outputs": []
    },
    {
      "cell_type": "code",
      "source": [
        "loans = loans.groupby(['created_at']).amount.sum().reset_index()"
      ],
      "metadata": {
        "id": "Q7g5oXjXTFS5"
      },
      "execution_count": null,
      "outputs": []
    },
    {
      "cell_type": "code",
      "source": [
        "loans.sort_values(by=['created_at'], inplace=True)"
      ],
      "metadata": {
        "id": "tLpzNw9eUAEO"
      },
      "execution_count": null,
      "outputs": []
    },
    {
      "cell_type": "code",
      "source": [
        "loans = loans.set_index('created_at')"
      ],
      "metadata": {
        "id": "4zlaNKhJUNP3"
      },
      "execution_count": null,
      "outputs": []
    },
    {
      "cell_type": "code",
      "source": [],
      "metadata": {
        "id": "d-2b6O6N7o_z"
      },
      "execution_count": null,
      "outputs": []
    },
    {
      "cell_type": "code",
      "source": [
        "loans"
      ],
      "metadata": {
        "id": "WuwWe_YKVYAA"
      },
      "execution_count": null,
      "outputs": []
    },
    {
      "cell_type": "code",
      "source": [
        "scaler = MinMaxScaler(feature_range=(0,1))\n",
        "scaled_loans = scaler.fit_transform(loans)"
      ],
      "metadata": {
        "id": "XE-YzPZ2VYjb"
      },
      "execution_count": null,
      "outputs": []
    },
    {
      "cell_type": "code",
      "source": [
        "scaled_loans"
      ],
      "metadata": {
        "id": "RvBc75fqZhri"
      },
      "execution_count": null,
      "outputs": []
    },
    {
      "cell_type": "code",
      "source": [
        "x_train = []\n",
        "y_train = []\n",
        "for i in range(60, 1955):\n",
        "    x_train.append(scaled_loans[i-60:i, 0])\n",
        "    y_train.append(scaled_loans[i, 0])"
      ],
      "metadata": {
        "id": "WTuhDAT2ZoyL"
      },
      "execution_count": null,
      "outputs": []
    },
    {
      "cell_type": "code",
      "source": [
        "y_train = np.array(y_train)\n",
        "x_train = np.array(x_train)"
      ],
      "metadata": {
        "id": "zP5n04VlbpFR"
      },
      "execution_count": null,
      "outputs": []
    },
    {
      "cell_type": "code",
      "source": [
        "x_train = np.reshape(x_train, (np.shape(x_train)[0], np.shape(x_train)[1], 1 ))"
      ],
      "metadata": {
        "id": "tzh8p1MLaDxz"
      },
      "execution_count": null,
      "outputs": []
    },
    {
      "cell_type": "code",
      "source": [
        "regressor  = Sequential()\n",
        "regressor.add(LSTM(units=50, return_sequences=True, input_shape=(np.shape(x_train)[1],1)))\n",
        "regressor.add(Dropout(0.2))\n",
        "\n",
        "regressor.add(Bidirectional(LSTM(units=50, return_sequences=True)))\n",
        "regressor.add(Dropout(0.2))\n",
        "\n",
        "regressor.add(Bidirectional(LSTM(units=50, return_sequences=True)))\n",
        "regressor.add(Dropout(0.2))\n",
        "\n",
        "regressor.add(Bidirectional(LSTM(units=50)))\n",
        "regressor.add(Dropout(0.2))\n",
        "\n",
        "regressor.add(Dense(units=1))\n",
        "regressor.add(Dropout(0.2))\n",
        "\n",
        "regressor.add(Dense(units=1))\n",
        "\n",
        "regressor.summary()"
      ],
      "metadata": {
        "id": "32x5XOnAaE-G"
      },
      "execution_count": null,
      "outputs": []
    },
    {
      "cell_type": "code",
      "source": [
        "lr_schedule = keras.callbacks.LearningRateScheduler(lambda epoch:1e-7 * 10**(epoch/20))\n",
        "\n",
        "opt = tf.keras.optimizers.Adam(learning_rate=1e-7)\n",
        "\n",
        "regressor.compile(optimizer=opt, loss='mse', metrics=['mae','mape'])\n",
        "\n",
        "early_stopping = tf.keras.callbacks.EarlyStopping(monitor='loss', mode='min',patience=20)\n",
        "\n",
        "mc = tf.keras.callbacks.ModelCheckpoint('best_model.h5', monitor='loss', mode='min', verbose=0, save_best_only=True)\n",
        "\n",
        "hist = regressor.fit(x_train,y_train, epochs=150, batch_size=32, callbacks=[mc, lr_schedule, early_stopping])\n"
      ],
      "metadata": {
        "id": "O47SalM3aq_k"
      },
      "execution_count": null,
      "outputs": []
    },
    {
      "cell_type": "code",
      "source": [
        "print(hist.history.keys())\n"
      ],
      "metadata": {
        "id": "tOR8rhWacKQC"
      },
      "execution_count": null,
      "outputs": []
    },
    {
      "cell_type": "code",
      "source": [
        "plt.plot(hist.history['loss'])"
      ],
      "metadata": {
        "id": "Y4ObmaN5bCQ-"
      },
      "execution_count": null,
      "outputs": []
    },
    {
      "cell_type": "code",
      "source": [
        "y_preds = regressor.predict(x_train)"
      ],
      "metadata": {
        "id": "bM1xtC_ye2W_"
      },
      "execution_count": null,
      "outputs": []
    },
    {
      "cell_type": "code",
      "source": [
        "y_preds"
      ],
      "metadata": {
        "id": "lyE9IDbibU_P"
      },
      "execution_count": null,
      "outputs": []
    },
    {
      "cell_type": "code",
      "source": [
        "def getError(actual, prediction):\n",
        "  m = keras.metrics.MeanAbsolutePercentageError()\n",
        "  n = keras.metrics.MeanAbsoluteError()\n",
        "  m.update_state(actual, prediction)\n",
        "  n.update_state(actual, prediction)\n",
        "  err = m.result().numpy()\n",
        "  err_1 = n.result().numpy()\n",
        "  return ({'MAE':err_1, 'MAPE':err})"
      ],
      "metadata": {
        "id": "34VriduQfHuZ"
      },
      "execution_count": null,
      "outputs": []
    },
    {
      "cell_type": "code",
      "source": [
        "train_errors = getError(y_train, y_preds)\n",
        "print(train_errors)"
      ],
      "metadata": {
        "id": "POmfarMkflM4"
      },
      "execution_count": null,
      "outputs": []
    },
    {
      "cell_type": "code",
      "source": [
        "prediction = regressor.predict( np.array( [x_train[-1],]))"
      ],
      "metadata": {
        "id": "GDF69LPUfwkH"
      },
      "execution_count": null,
      "outputs": []
    },
    {
      "cell_type": "code",
      "source": [
        "print(prediction)"
      ],
      "metadata": {
        "id": "YIyywCgEhqc2"
      },
      "execution_count": null,
      "outputs": []
    },
    {
      "cell_type": "code",
      "source": [
        "x_copy = x_train\n",
        "y_copy = y_train"
      ],
      "metadata": {
        "id": "itad1xoFhtFH"
      },
      "execution_count": null,
      "outputs": []
    },
    {
      "cell_type": "code",
      "source": [
        "def predictSteps(x, steps):\n",
        "  if(steps == 0):\n",
        "    prediction = regressor.predict( np.array( [x,]))\n",
        "    print(prediction)\n",
        "    return prediction\n",
        "  else:\n",
        "    prediction = regressor.predict( np.array( [x,]))\n",
        "    pred = x[1:]\n",
        "    pred = np.append(pred,prediction)\n",
        "    steps = steps-1\n",
        "    print(prediction)\n",
        "    predictSteps(pred, steps)"
      ],
      "metadata": {
        "id": "gYl1w6S_S9Wm"
      },
      "execution_count": null,
      "outputs": []
    },
    {
      "cell_type": "code",
      "source": [
        "predictSteps(x_copy[-1], 10)"
      ],
      "metadata": {
        "id": "NzAgYxBND__e"
      },
      "execution_count": null,
      "outputs": []
    },
    {
      "cell_type": "markdown",
      "source": [
        "## Where to go from here\n",
        "Follow us on [LinkedIn](https://www.linkedin.com/company/mlnuggets), [Twitter](https://twitter.com/ml_nuggets), [GitHub](https://github.com/mlnuggets) and subscribe to our [blog](https://www.machinelearningnuggets.com/#/portal) so that you don't miss a new issue."
      ],
      "metadata": {
        "id": "yqcDY7IUgZqs"
      }
    }
  ]
}
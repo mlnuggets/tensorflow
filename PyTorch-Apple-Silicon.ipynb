{
 "cells": [
  {
   "cell_type": "markdown",
   "source": [
    "# How to train deep learning models on Apple Silicon GPU\n",
    "Click the image below to read the post online.\n",
    "\n",
    "<a target=\"_blank\" href=\"www.machinelearningnuggets.com/apple-silicon-gpu\"><img src=\"https://www.machinelearningnuggets.com/ezoimgfmt/digitalpress.fra1.cdn.digitaloceanspaces.com/mhujhsj/2022/07/logho-1.png?ezimgfmt=ng:webp/ngcb1\" alt=\"Open in ML Nuggets\"></a>"
   ],
   "metadata": {
    "collapsed": false
   }
  },
  {
   "cell_type": "code",
   "execution_count": 1,
   "id": "ecca04ea-4cfc-4c99-81ff-49c583c01c97",
   "metadata": {},
   "outputs": [],
   "source": [
    "import torch\n",
    "from torch import nn\n",
    "from torch.utils.data import DataLoader\n",
    "from torchvision import datasets\n",
    "from torchvision.transforms import ToTensor"
   ]
  },
  {
   "cell_type": "code",
   "execution_count": 2,
   "id": "2c82c84e-eb07-4956-bcae-5783de7bca11",
   "metadata": {},
   "outputs": [],
   "source": [
    "# Download training data from open datasets.\n",
    "training_data = datasets.FashionMNIST(\n",
    "    root=\"data\",\n",
    "    train=True,\n",
    "    download=True,\n",
    "    transform=ToTensor(),\n",
    ")\n",
    "\n",
    "# Download test data from open datasets.\n",
    "test_data = datasets.FashionMNIST(\n",
    "    root=\"data\",\n",
    "    train=False,\n",
    "    download=True,\n",
    "    transform=ToTensor(),\n",
    ")"
   ]
  },
  {
   "cell_type": "code",
   "execution_count": 3,
   "id": "3c755f48-4cbd-4fd2-9615-df0989ce51e1",
   "metadata": {},
   "outputs": [
    {
     "name": "stdout",
     "output_type": "stream",
     "text": [
      "Shape of X [N, C, H, W]: torch.Size([64, 1, 28, 28])\n",
      "Shape of y: torch.Size([64]) torch.int64\n"
     ]
    }
   ],
   "source": [
    "batch_size = 64\n",
    "\n",
    "# Create data loaders.\n",
    "train_dataloader = DataLoader(training_data, batch_size=batch_size)\n",
    "test_dataloader = DataLoader(test_data, batch_size=batch_size)\n",
    "\n",
    "for X, y in test_dataloader:\n",
    "    print(f\"Shape of X [N, C, H, W]: {X.shape}\")\n",
    "    print(f\"Shape of y: {y.shape} {y.dtype}\")\n",
    "    break"
   ]
  },
  {
   "cell_type": "code",
   "execution_count": 8,
   "id": "c8a26b0e-b9c3-440d-91d9-365316b9b7ff",
   "metadata": {},
   "outputs": [
    {
     "name": "stdout",
     "output_type": "stream",
     "text": [
      "Using mps device\n",
      "NeuralNetwork(\n",
      "  (flatten): Flatten(start_dim=1, end_dim=-1)\n",
      "  (linear_relu_stack): Sequential(\n",
      "    (0): Linear(in_features=784, out_features=512, bias=True)\n",
      "    (1): ReLU()\n",
      "    (2): Linear(in_features=512, out_features=512, bias=True)\n",
      "    (3): ReLU()\n",
      "    (4): Linear(in_features=512, out_features=10, bias=True)\n",
      "  )\n",
      ")\n"
     ]
    }
   ],
   "source": [
    "# Get cpu or gpu device for training.\n",
    "device = torch.device(\"mps\")\n",
    "print(f\"Using {device} device\")\n",
    "\n",
    "# Define model\n",
    "class NeuralNetwork(nn.Module):\n",
    "    def __init__(self):\n",
    "        super(NeuralNetwork, self).__init__()\n",
    "        self.flatten = nn.Flatten()\n",
    "        self.linear_relu_stack = nn.Sequential(\n",
    "            nn.Linear(28*28, 512),\n",
    "            nn.ReLU(),\n",
    "            nn.Linear(512, 512),\n",
    "            nn.ReLU(),\n",
    "            nn.Linear(512, 10)\n",
    "        )\n",
    "\n",
    "    def forward(self, x):\n",
    "        x = self.flatten(x)\n",
    "        logits = self.linear_relu_stack(x)\n",
    "        return logits\n",
    "\n",
    "model = NeuralNetwork().to(device)\n",
    "print(model)"
   ]
  },
  {
   "cell_type": "code",
   "execution_count": 9,
   "id": "be6f58cf-9c03-4adb-8011-2ef547b4e890",
   "metadata": {},
   "outputs": [],
   "source": [
    "loss_fn = nn.CrossEntropyLoss()\n",
    "optimizer = torch.optim.SGD(model.parameters(), lr=1e-3)"
   ]
  },
  {
   "cell_type": "code",
   "execution_count": 10,
   "id": "46c7d185-8a71-4fab-bab8-d95437350d0e",
   "metadata": {},
   "outputs": [],
   "source": [
    "def train(dataloader, model, loss_fn, optimizer):\n",
    "    size = len(dataloader.dataset)\n",
    "    model.train()\n",
    "    for batch, (X, y) in enumerate(dataloader):\n",
    "        X, y = X.to(device), y.to(device)\n",
    "\n",
    "        # Compute prediction error\n",
    "        pred = model(X)\n",
    "        loss = loss_fn(pred, y)\n",
    "\n",
    "        # Backpropagation\n",
    "        optimizer.zero_grad()\n",
    "        loss.backward()\n",
    "        optimizer.step()\n",
    "\n",
    "        if batch % 100 == 0:\n",
    "            loss, current = loss.item(), batch * len(X)\n",
    "            print(f\"loss: {loss:>7f}  [{current:>5d}/{size:>5d}]\")"
   ]
  },
  {
   "cell_type": "code",
   "execution_count": 11,
   "id": "7f0a53f5-bd3c-4c9a-9aa4-7690aa15ea9a",
   "metadata": {},
   "outputs": [],
   "source": [
    "def test(dataloader, model, loss_fn):\n",
    "    size = len(dataloader.dataset)\n",
    "    num_batches = len(dataloader)\n",
    "    model.eval()\n",
    "    test_loss, correct = 0, 0\n",
    "    with torch.no_grad():\n",
    "        for X, y in dataloader:\n",
    "            X, y = X.to(device), y.to(device)\n",
    "            pred = model(X)\n",
    "            test_loss += loss_fn(pred, y).item()\n",
    "            correct += (pred.argmax(1) == y).type(torch.float).sum().item()\n",
    "    test_loss /= num_batches\n",
    "    correct /= size\n",
    "    print(f\"Test Error: \\n Accuracy: {(100*correct):>0.1f}%, Avg loss: {test_loss:>8f} \\n\")"
   ]
  },
  {
   "cell_type": "code",
   "execution_count": 12,
   "id": "b7260b51-252d-4166-a6bb-7e42cdd59751",
   "metadata": {},
   "outputs": [
    {
     "name": "stdout",
     "output_type": "stream",
     "text": [
      "Epoch 1\n",
      "-------------------------------\n",
      "loss: 2.305429  [    0/60000]\n",
      "loss: 2.293827  [ 6400/60000]\n",
      "loss: 2.276230  [12800/60000]\n",
      "loss: 2.267422  [19200/60000]\n",
      "loss: 2.243962  [25600/60000]\n",
      "loss: 2.227392  [32000/60000]\n",
      "loss: 2.238616  [38400/60000]\n",
      "loss: 2.208567  [44800/60000]\n",
      "loss: 2.208795  [51200/60000]\n",
      "loss: 2.169016  [57600/60000]\n",
      "Test Error: \n",
      " Accuracy: 38.5%, Avg loss: 2.163484 \n",
      "\n",
      "Epoch 2\n",
      "-------------------------------\n",
      "loss: 2.179963  [    0/60000]\n",
      "loss: 2.166259  [ 6400/60000]\n",
      "loss: 2.113198  [12800/60000]\n",
      "loss: 2.117800  [19200/60000]\n",
      "loss: 2.055205  [25600/60000]\n",
      "loss: 2.014468  [32000/60000]\n",
      "loss: 2.037855  [38400/60000]\n",
      "loss: 1.967853  [44800/60000]\n",
      "loss: 1.971178  [51200/60000]\n",
      "loss: 1.878974  [57600/60000]\n",
      "Test Error: \n",
      " Accuracy: 56.2%, Avg loss: 1.887734 \n",
      "\n",
      "Epoch 3\n",
      "-------------------------------\n",
      "loss: 1.927098  [    0/60000]\n",
      "loss: 1.892178  [ 6400/60000]\n",
      "loss: 1.784390  [12800/60000]\n",
      "loss: 1.805572  [19200/60000]\n",
      "loss: 1.682951  [25600/60000]\n",
      "loss: 1.656136  [32000/60000]\n",
      "loss: 1.668748  [38400/60000]\n",
      "loss: 1.584905  [44800/60000]\n",
      "loss: 1.598375  [51200/60000]\n",
      "loss: 1.482606  [57600/60000]\n",
      "Test Error: \n",
      " Accuracy: 62.4%, Avg loss: 1.512198 \n",
      "\n",
      "Epoch 4\n",
      "-------------------------------\n",
      "loss: 1.580859  [    0/60000]\n",
      "loss: 1.544205  [ 6400/60000]\n",
      "loss: 1.407570  [12800/60000]\n",
      "loss: 1.455437  [19200/60000]\n",
      "loss: 1.335922  [25600/60000]\n",
      "loss: 1.348987  [32000/60000]\n",
      "loss: 1.356569  [38400/60000]\n",
      "loss: 1.294093  [44800/60000]\n",
      "loss: 1.315576  [51200/60000]\n",
      "loss: 1.214800  [57600/60000]\n",
      "Test Error: \n",
      " Accuracy: 64.0%, Avg loss: 1.244608 \n",
      "\n",
      "Epoch 5\n",
      "-------------------------------\n",
      "loss: 1.321235  [    0/60000]\n",
      "loss: 1.303346  [ 6400/60000]\n",
      "loss: 1.145991  [12800/60000]\n",
      "loss: 1.232558  [19200/60000]\n",
      "loss: 1.111475  [25600/60000]\n",
      "loss: 1.146074  [32000/60000]\n",
      "loss: 1.165474  [38400/60000]\n",
      "loss: 1.112050  [44800/60000]\n",
      "loss: 1.139225  [51200/60000]\n",
      "loss: 1.056799  [57600/60000]\n",
      "Test Error: \n",
      " Accuracy: 65.0%, Avg loss: 1.078523 \n",
      "\n",
      "Done!\n"
     ]
    }
   ],
   "source": [
    "epochs = 5\n",
    "for t in range(epochs):\n",
    "    print(f\"Epoch {t+1}\\n-------------------------------\")\n",
    "    train(train_dataloader, model, loss_fn, optimizer)\n",
    "    test(test_dataloader, model, loss_fn)\n",
    "print(\"Done!\")"
   ]
  },
  {
   "cell_type": "code",
   "execution_count": 13,
   "id": "6befd827-47a0-4dca-b715-d583a1ffb11b",
   "metadata": {},
   "outputs": [
    {
     "name": "stdout",
     "output_type": "stream",
     "text": [
      "Saved PyTorch Model State to model.pth\n"
     ]
    }
   ],
   "source": [
    "torch.save(model.state_dict(), \"model.pth\")\n",
    "print(\"Saved PyTorch Model State to model.pth\")"
   ]
  },
  {
   "cell_type": "code",
   "execution_count": 14,
   "id": "50d21fef-7c7b-455f-83d2-cb45115147be",
   "metadata": {},
   "outputs": [
    {
     "data": {
      "text/plain": [
       "<All keys matched successfully>"
      ]
     },
     "execution_count": 14,
     "metadata": {},
     "output_type": "execute_result"
    }
   ],
   "source": [
    "model = NeuralNetwork()\n",
    "model.load_state_dict(torch.load(\"model.pth\"))"
   ]
  },
  {
   "cell_type": "code",
   "execution_count": 15,
   "id": "1bdd00c9-d0cb-43d6-a133-a0d2c504b51b",
   "metadata": {},
   "outputs": [
    {
     "name": "stdout",
     "output_type": "stream",
     "text": [
      "Predicted: \"Ankle boot\", Actual: \"Ankle boot\"\n"
     ]
    }
   ],
   "source": [
    "classes = [\n",
    "    \"T-shirt/top\",\n",
    "    \"Trouser\",\n",
    "    \"Pullover\",\n",
    "    \"Dress\",\n",
    "    \"Coat\",\n",
    "    \"Sandal\",\n",
    "    \"Shirt\",\n",
    "    \"Sneaker\",\n",
    "    \"Bag\",\n",
    "    \"Ankle boot\",\n",
    "]\n",
    "\n",
    "model.eval()\n",
    "x, y = test_data[0][0], test_data[0][1]\n",
    "with torch.no_grad():\n",
    "    pred = model(x)\n",
    "    predicted, actual = classes[pred[0].argmax(0)], classes[y]\n",
    "    print(f'Predicted: \"{predicted}\", Actual: \"{actual}\"')"
   ]
  },
  {
   "cell_type": "code",
   "execution_count": null,
   "id": "ad43b5cf-9480-43eb-a366-31175d8e743d",
   "metadata": {},
   "outputs": [],
   "source": []
  },
  {
   "cell_type": "code",
   "execution_count": null,
   "id": "238dc138-2059-4f98-bc4a-a12f17b00eb4",
   "metadata": {},
   "outputs": [],
   "source": []
  }
 ],
 "metadata": {
  "kernelspec": {
   "display_name": "Python 3 (ipykernel)",
   "language": "python",
   "name": "python3"
  },
  "language_info": {
   "codemirror_mode": {
    "name": "ipython",
    "version": 3
   },
   "file_extension": ".py",
   "mimetype": "text/x-python",
   "name": "python",
   "nbconvert_exporter": "python",
   "pygments_lexer": "ipython3",
   "version": "3.8.13"
  }
 },
 "nbformat": 4,
 "nbformat_minor": 5
}